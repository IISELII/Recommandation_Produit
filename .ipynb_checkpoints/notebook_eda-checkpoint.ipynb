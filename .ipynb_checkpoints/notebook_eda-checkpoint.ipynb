{
 "cells": [
  {
   "cell_type": "markdown",
   "id": "b7b9a7e9",
   "metadata": {},
   "source": [
    "# Notebook_eda"
   ]
  },
  {
   "cell_type": "markdown",
   "id": "6d8f5f64",
   "metadata": {},
   "source": [
    "voir le README pour le résumé du projet"
   ]
  },
  {
   "cell_type": "markdown",
   "id": "1c05e39f",
   "metadata": {},
   "source": [
    "Colonnes : \n",
    "\n",
    "- InvoiceNo : Il s'agit du numéro d'identification de la facture. Chaque transaction est généralement associée à un numéro de facture unique. Ce numéro peut être utilisé pour regrouper les articles achetés dans une même transaction.\n",
    "\n",
    "- StockCode : C'est le code d'identification du produit ou de l'article. Chaque produit ou article disponible à la vente a généralement un code unique qui l'identifie. Ce code peut être utilisé pour associer un article spécifique à une transaction.\n",
    "\n",
    "- Description : Cette colonne contient la description du produit ou de l'article correspondant au code StockCode. Il s'agit d'une description textuelle qui fournit des informations sur le produit ou l'article, telles que sa marque, son nom ou ses caractéristiques.\n",
    "\n",
    "- Quantity : C'est le nombre d'unités de chaque produit ou article acheté dans une transaction donnée. Il indique combien d'unités d'un produit spécifique ont été achetées lors de cette transaction.\n",
    "\n",
    "- InvoiceDate : Il s'agit de la date et de l'heure auxquelles la transaction a été effectuée. Cette information peut être utile pour l'analyse temporelle, la segmentation des données ou la détection de tendances saisonnières.\n",
    "\n",
    "- UnitPrice : C'est le prix unitaire d'un produit ou article. Il représente le coût d'une seule unité du produit. Le prix total d'un produit dans une transaction peut être calculé en multipliant la quantité par le prix unitaire.\n",
    "\n",
    "- CustomerID : Il s'agit de l'identifiant du client associé à la transaction. Chaque client a un identifiant unique qui peut être utilisé pour regrouper les transactions par client ou pour suivre les comportements d'achat spécifiques à chaque client.\n",
    "\n",
    "- Country : Cette colonne indique le pays où la transaction a eu lieu ou le pays associé au client. Elle peut être utilisée pour analyser les ventes par pays ou pour segmenter les données en fonction des régions géographiques."
   ]
  },
  {
   "cell_type": "code",
   "execution_count": 2,
   "id": "0ae9bb65",
   "metadata": {},
   "outputs": [],
   "source": [
    "# import des librairies\n",
    "import pandas as pd \n",
    "import numpy as np \n",
    "import seaborn as sns \n",
    "import matplotlib.pyplot as plt \n",
    "\n",
    "# models \n",
    "import pyfpgrowth\n",
    "from mlxtend.frequent_patterns import apriori\n",
    "from mlxtend.frequent_patterns import association_rules"
   ]
  },
  {
   "cell_type": "code",
   "execution_count": 3,
   "id": "8d3f22b9",
   "metadata": {},
   "outputs": [
    {
     "data": {
      "text/html": [
       "<div>\n",
       "<style scoped>\n",
       "    .dataframe tbody tr th:only-of-type {\n",
       "        vertical-align: middle;\n",
       "    }\n",
       "\n",
       "    .dataframe tbody tr th {\n",
       "        vertical-align: top;\n",
       "    }\n",
       "\n",
       "    .dataframe thead th {\n",
       "        text-align: right;\n",
       "    }\n",
       "</style>\n",
       "<table border=\"1\" class=\"dataframe\">\n",
       "  <thead>\n",
       "    <tr style=\"text-align: right;\">\n",
       "      <th></th>\n",
       "      <th>InvoiceNo</th>\n",
       "      <th>StockCode</th>\n",
       "      <th>Description</th>\n",
       "      <th>Quantity</th>\n",
       "      <th>InvoiceDate</th>\n",
       "      <th>UnitPrice</th>\n",
       "      <th>CustomerID</th>\n",
       "      <th>Country</th>\n",
       "    </tr>\n",
       "  </thead>\n",
       "  <tbody>\n",
       "    <tr>\n",
       "      <th>0</th>\n",
       "      <td>536365</td>\n",
       "      <td>85123A</td>\n",
       "      <td>WHITE HANGING HEART T-LIGHT HOLDER</td>\n",
       "      <td>6</td>\n",
       "      <td>12/1/2010 8:26</td>\n",
       "      <td>2.55</td>\n",
       "      <td>17850.0</td>\n",
       "      <td>United Kingdom</td>\n",
       "    </tr>\n",
       "    <tr>\n",
       "      <th>1</th>\n",
       "      <td>536365</td>\n",
       "      <td>71053</td>\n",
       "      <td>WHITE METAL LANTERN</td>\n",
       "      <td>6</td>\n",
       "      <td>12/1/2010 8:26</td>\n",
       "      <td>3.39</td>\n",
       "      <td>17850.0</td>\n",
       "      <td>United Kingdom</td>\n",
       "    </tr>\n",
       "    <tr>\n",
       "      <th>2</th>\n",
       "      <td>536365</td>\n",
       "      <td>84406B</td>\n",
       "      <td>CREAM CUPID HEARTS COAT HANGER</td>\n",
       "      <td>8</td>\n",
       "      <td>12/1/2010 8:26</td>\n",
       "      <td>2.75</td>\n",
       "      <td>17850.0</td>\n",
       "      <td>United Kingdom</td>\n",
       "    </tr>\n",
       "    <tr>\n",
       "      <th>3</th>\n",
       "      <td>536365</td>\n",
       "      <td>84029G</td>\n",
       "      <td>KNITTED UNION FLAG HOT WATER BOTTLE</td>\n",
       "      <td>6</td>\n",
       "      <td>12/1/2010 8:26</td>\n",
       "      <td>3.39</td>\n",
       "      <td>17850.0</td>\n",
       "      <td>United Kingdom</td>\n",
       "    </tr>\n",
       "    <tr>\n",
       "      <th>4</th>\n",
       "      <td>536365</td>\n",
       "      <td>84029E</td>\n",
       "      <td>RED WOOLLY HOTTIE WHITE HEART.</td>\n",
       "      <td>6</td>\n",
       "      <td>12/1/2010 8:26</td>\n",
       "      <td>3.39</td>\n",
       "      <td>17850.0</td>\n",
       "      <td>United Kingdom</td>\n",
       "    </tr>\n",
       "  </tbody>\n",
       "</table>\n",
       "</div>"
      ],
      "text/plain": [
       "  InvoiceNo StockCode                          Description  Quantity  \\\n",
       "0    536365    85123A   WHITE HANGING HEART T-LIGHT HOLDER         6   \n",
       "1    536365     71053                  WHITE METAL LANTERN         6   \n",
       "2    536365    84406B       CREAM CUPID HEARTS COAT HANGER         8   \n",
       "3    536365    84029G  KNITTED UNION FLAG HOT WATER BOTTLE         6   \n",
       "4    536365    84029E       RED WOOLLY HOTTIE WHITE HEART.         6   \n",
       "\n",
       "      InvoiceDate  UnitPrice  CustomerID         Country  \n",
       "0  12/1/2010 8:26       2.55     17850.0  United Kingdom  \n",
       "1  12/1/2010 8:26       3.39     17850.0  United Kingdom  \n",
       "2  12/1/2010 8:26       2.75     17850.0  United Kingdom  \n",
       "3  12/1/2010 8:26       3.39     17850.0  United Kingdom  \n",
       "4  12/1/2010 8:26       3.39     17850.0  United Kingdom  "
      ]
     },
     "execution_count": 3,
     "metadata": {},
     "output_type": "execute_result"
    }
   ],
   "source": [
    "# import des données \n",
    "df = pd.read_csv(\"data/data.csv\", encoding= 'unicode_escape')\n",
    "df.head()"
   ]
  },
  {
   "cell_type": "markdown",
   "id": "0964445e",
   "metadata": {},
   "source": [
    "## Fonctions"
   ]
  },
  {
   "cell_type": "code",
   "execution_count": 4,
   "id": "34a324f1",
   "metadata": {},
   "outputs": [],
   "source": [
    "def unique(df, liste):\n",
    "    for i in liste:\n",
    "        result = df[i].unique()\n",
    "        print(f\"******************************{i}******************************\")\n",
    "        print(result)"
   ]
  },
  {
   "cell_type": "code",
   "execution_count": 5,
   "id": "3b29af4e",
   "metadata": {},
   "outputs": [],
   "source": [
    "def remove_outliers_df(df, cols=None, threshold=1.5):\n",
    "    \"\"\"\n",
    "    Traite les outliers dans un DataFrame en utilisant la méthode de l'écart interquartile (IQR) pour chaque colonne.\n",
    "    \n",
    "    Arguments:\n",
    "    - df : DataFrame, le DataFrame contenant les données à traiter.\n",
    "    - cols : liste, les noms des colonnes à traiter (par défaut : None pour toutes les colonnes).\n",
    "    - threshold : float, la valeur seuil pour détecter les outliers (par défaut : 1.5).\n",
    "    \n",
    "    Returns:\n",
    "    - DataFrame, le DataFrame avec les outliers supprimés.\n",
    "    \"\"\"\n",
    "    if cols is None:\n",
    "        cols = df.columns\n",
    "    \n",
    "    filtered_data = df.copy()\n",
    "    \n",
    "    for col in cols:\n",
    "        # Calcul de Q1 (premier quartile) et Q3 (troisième quartile) pour la colonne\n",
    "        q1 = df[col].quantile(0.25)\n",
    "        q3 = df[col].quantile(0.75)\n",
    "        \n",
    "        # Calcul de l'écart interquartile (IQR) pour la colonne\n",
    "        iqr = q3 - q1\n",
    "        \n",
    "        # Calcul des limites supérieure et inférieure pour détecter les outliers pour la colonne\n",
    "        lower_bound = q1 - threshold * iqr\n",
    "        upper_bound = q3 + threshold * iqr\n",
    "        \n",
    "        # Filtrage des valeurs en dehors des limites pour la colonne\n",
    "        filtered_data = filtered_data[(filtered_data[col] >= lower_bound) & (filtered_data[col] <= upper_bound)]\n",
    "    \n",
    "    return filtered_data"
   ]
  },
  {
   "cell_type": "code",
   "execution_count": 6,
   "id": "22a47870",
   "metadata": {},
   "outputs": [],
   "source": [
    "def transform_str_to_int(column):\n",
    "    unique_values = list(set(column))\n",
    "    mapping = {value: i+1 for i, value in enumerate(unique_values)}\n",
    "    return [mapping.get(value, 0) for value in column]"
   ]
  },
  {
   "cell_type": "markdown",
   "id": "c752d64b",
   "metadata": {},
   "source": [
    "## EDA"
   ]
  },
  {
   "cell_type": "code",
   "execution_count": 7,
   "id": "7563b571",
   "metadata": {},
   "outputs": [
    {
     "data": {
      "text/plain": [
       "(541909, 8)"
      ]
     },
     "execution_count": 7,
     "metadata": {},
     "output_type": "execute_result"
    }
   ],
   "source": [
    "# nombre de lignes et de colonnes du df\n",
    "df.shape"
   ]
  },
  {
   "cell_type": "code",
   "execution_count": 8,
   "id": "6c83a187",
   "metadata": {},
   "outputs": [
    {
     "data": {
      "text/plain": [
       "Index(['InvoiceNo', 'StockCode', 'Description', 'Quantity', 'InvoiceDate',\n",
       "       'UnitPrice', 'CustomerID', 'Country'],\n",
       "      dtype='object')"
      ]
     },
     "execution_count": 8,
     "metadata": {},
     "output_type": "execute_result"
    }
   ],
   "source": [
    "df.columns"
   ]
  },
  {
   "cell_type": "code",
   "execution_count": 9,
   "id": "c31f91a7",
   "metadata": {},
   "outputs": [
    {
     "data": {
      "text/plain": [
       "InvoiceNo       object\n",
       "StockCode       object\n",
       "Description     object\n",
       "Quantity         int64\n",
       "InvoiceDate     object\n",
       "UnitPrice      float64\n",
       "CustomerID     float64\n",
       "Country         object\n",
       "dtype: object"
      ]
     },
     "execution_count": 9,
     "metadata": {},
     "output_type": "execute_result"
    }
   ],
   "source": [
    "# le type de données pour chaque colonne\n",
    "df.dtypes"
   ]
  },
  {
   "cell_type": "code",
   "execution_count": 10,
   "id": "c2bedb92",
   "metadata": {},
   "outputs": [
    {
     "name": "stdout",
     "output_type": "stream",
     "text": [
      "<class 'pandas.core.frame.DataFrame'>\n",
      "RangeIndex: 541909 entries, 0 to 541908\n",
      "Data columns (total 8 columns):\n",
      " #   Column       Non-Null Count   Dtype  \n",
      "---  ------       --------------   -----  \n",
      " 0   InvoiceNo    541909 non-null  object \n",
      " 1   StockCode    541909 non-null  object \n",
      " 2   Description  540455 non-null  object \n",
      " 3   Quantity     541909 non-null  int64  \n",
      " 4   InvoiceDate  541909 non-null  object \n",
      " 5   UnitPrice    541909 non-null  float64\n",
      " 6   CustomerID   406829 non-null  float64\n",
      " 7   Country      541909 non-null  object \n",
      "dtypes: float64(2), int64(1), object(5)\n",
      "memory usage: 33.1+ MB\n"
     ]
    }
   ],
   "source": [
    "df.info()"
   ]
  },
  {
   "cell_type": "code",
   "execution_count": 11,
   "id": "a364c64a",
   "metadata": {},
   "outputs": [
    {
     "data": {
      "text/html": [
       "<div>\n",
       "<style scoped>\n",
       "    .dataframe tbody tr th:only-of-type {\n",
       "        vertical-align: middle;\n",
       "    }\n",
       "\n",
       "    .dataframe tbody tr th {\n",
       "        vertical-align: top;\n",
       "    }\n",
       "\n",
       "    .dataframe thead th {\n",
       "        text-align: right;\n",
       "    }\n",
       "</style>\n",
       "<table border=\"1\" class=\"dataframe\">\n",
       "  <thead>\n",
       "    <tr style=\"text-align: right;\">\n",
       "      <th></th>\n",
       "      <th>Quantity</th>\n",
       "      <th>UnitPrice</th>\n",
       "      <th>CustomerID</th>\n",
       "    </tr>\n",
       "  </thead>\n",
       "  <tbody>\n",
       "    <tr>\n",
       "      <th>count</th>\n",
       "      <td>541909.000000</td>\n",
       "      <td>541909.000000</td>\n",
       "      <td>406829.000000</td>\n",
       "    </tr>\n",
       "    <tr>\n",
       "      <th>mean</th>\n",
       "      <td>9.552250</td>\n",
       "      <td>4.611114</td>\n",
       "      <td>15287.690570</td>\n",
       "    </tr>\n",
       "    <tr>\n",
       "      <th>std</th>\n",
       "      <td>218.081158</td>\n",
       "      <td>96.759853</td>\n",
       "      <td>1713.600303</td>\n",
       "    </tr>\n",
       "    <tr>\n",
       "      <th>min</th>\n",
       "      <td>-80995.000000</td>\n",
       "      <td>-11062.060000</td>\n",
       "      <td>12346.000000</td>\n",
       "    </tr>\n",
       "    <tr>\n",
       "      <th>25%</th>\n",
       "      <td>1.000000</td>\n",
       "      <td>1.250000</td>\n",
       "      <td>13953.000000</td>\n",
       "    </tr>\n",
       "    <tr>\n",
       "      <th>50%</th>\n",
       "      <td>3.000000</td>\n",
       "      <td>2.080000</td>\n",
       "      <td>15152.000000</td>\n",
       "    </tr>\n",
       "    <tr>\n",
       "      <th>75%</th>\n",
       "      <td>10.000000</td>\n",
       "      <td>4.130000</td>\n",
       "      <td>16791.000000</td>\n",
       "    </tr>\n",
       "    <tr>\n",
       "      <th>max</th>\n",
       "      <td>80995.000000</td>\n",
       "      <td>38970.000000</td>\n",
       "      <td>18287.000000</td>\n",
       "    </tr>\n",
       "  </tbody>\n",
       "</table>\n",
       "</div>"
      ],
      "text/plain": [
       "            Quantity      UnitPrice     CustomerID\n",
       "count  541909.000000  541909.000000  406829.000000\n",
       "mean        9.552250       4.611114   15287.690570\n",
       "std       218.081158      96.759853    1713.600303\n",
       "min    -80995.000000  -11062.060000   12346.000000\n",
       "25%         1.000000       1.250000   13953.000000\n",
       "50%         3.000000       2.080000   15152.000000\n",
       "75%        10.000000       4.130000   16791.000000\n",
       "max     80995.000000   38970.000000   18287.000000"
      ]
     },
     "execution_count": 11,
     "metadata": {},
     "output_type": "execute_result"
    }
   ],
   "source": [
    "df.describe()"
   ]
  },
  {
   "cell_type": "code",
   "execution_count": 12,
   "id": "dac8e2e4",
   "metadata": {},
   "outputs": [
    {
     "data": {
      "text/plain": [
       "5268"
      ]
     },
     "execution_count": 12,
     "metadata": {},
     "output_type": "execute_result"
    }
   ],
   "source": [
    "# nombre de duplicates\n",
    "df.duplicated().sum()"
   ]
  },
  {
   "cell_type": "code",
   "execution_count": 13,
   "id": "de3681e2",
   "metadata": {},
   "outputs": [
    {
     "data": {
      "text/plain": [
       "0"
      ]
     },
     "execution_count": 13,
     "metadata": {},
     "output_type": "execute_result"
    }
   ],
   "source": [
    "# drop les duplicates\n",
    "df = df.drop_duplicates()\n",
    "df.duplicated().sum()"
   ]
  },
  {
   "cell_type": "code",
   "execution_count": 14,
   "id": "082a7bb8",
   "metadata": {},
   "outputs": [
    {
     "data": {
      "text/plain": [
       "InvoiceNo           0\n",
       "StockCode           0\n",
       "Description      1454\n",
       "Quantity            0\n",
       "InvoiceDate         0\n",
       "UnitPrice           0\n",
       "CustomerID     135037\n",
       "Country             0\n",
       "dtype: int64"
      ]
     },
     "execution_count": 14,
     "metadata": {},
     "output_type": "execute_result"
    }
   ],
   "source": [
    "# nombre de NaN pour chaque colonne\n",
    "df.isnull().sum()"
   ]
  },
  {
   "cell_type": "markdown",
   "id": "663befd0",
   "metadata": {},
   "source": [
    "### NaN"
   ]
  },
  {
   "cell_type": "markdown",
   "id": "e0ff5272",
   "metadata": {},
   "source": [
    "L'objectif ici est d'observer les NaN plus en détail pour essayer de voir si ces valeurs sont manquantes pour une raison particulière "
   ]
  },
  {
   "cell_type": "code",
   "execution_count": 15,
   "id": "95b5630e",
   "metadata": {},
   "outputs": [],
   "source": [
    "# liste de toutes les colonnes\n",
    "colonnes = ['Description', 'Quantity', 'InvoiceDate', 'UnitPrice', 'CustomerID', 'Country']"
   ]
  },
  {
   "cell_type": "code",
   "execution_count": 16,
   "id": "487d4fd6",
   "metadata": {},
   "outputs": [
    {
     "data": {
      "text/html": [
       "<div>\n",
       "<style scoped>\n",
       "    .dataframe tbody tr th:only-of-type {\n",
       "        vertical-align: middle;\n",
       "    }\n",
       "\n",
       "    .dataframe tbody tr th {\n",
       "        vertical-align: top;\n",
       "    }\n",
       "\n",
       "    .dataframe thead th {\n",
       "        text-align: right;\n",
       "    }\n",
       "</style>\n",
       "<table border=\"1\" class=\"dataframe\">\n",
       "  <thead>\n",
       "    <tr style=\"text-align: right;\">\n",
       "      <th></th>\n",
       "      <th>InvoiceNo</th>\n",
       "      <th>StockCode</th>\n",
       "      <th>Description</th>\n",
       "      <th>Quantity</th>\n",
       "      <th>InvoiceDate</th>\n",
       "      <th>UnitPrice</th>\n",
       "      <th>CustomerID</th>\n",
       "      <th>Country</th>\n",
       "    </tr>\n",
       "  </thead>\n",
       "  <tbody>\n",
       "    <tr>\n",
       "      <th>0</th>\n",
       "      <td>536365</td>\n",
       "      <td>85123A</td>\n",
       "      <td>WHITE HANGING HEART T-LIGHT HOLDER</td>\n",
       "      <td>6</td>\n",
       "      <td>12/1/2010 8:26</td>\n",
       "      <td>2.55</td>\n",
       "      <td>17850.0</td>\n",
       "      <td>United Kingdom</td>\n",
       "    </tr>\n",
       "    <tr>\n",
       "      <th>1</th>\n",
       "      <td>536365</td>\n",
       "      <td>71053</td>\n",
       "      <td>WHITE METAL LANTERN</td>\n",
       "      <td>6</td>\n",
       "      <td>12/1/2010 8:26</td>\n",
       "      <td>3.39</td>\n",
       "      <td>17850.0</td>\n",
       "      <td>United Kingdom</td>\n",
       "    </tr>\n",
       "    <tr>\n",
       "      <th>2</th>\n",
       "      <td>536365</td>\n",
       "      <td>84406B</td>\n",
       "      <td>CREAM CUPID HEARTS COAT HANGER</td>\n",
       "      <td>8</td>\n",
       "      <td>12/1/2010 8:26</td>\n",
       "      <td>2.75</td>\n",
       "      <td>17850.0</td>\n",
       "      <td>United Kingdom</td>\n",
       "    </tr>\n",
       "    <tr>\n",
       "      <th>3</th>\n",
       "      <td>536365</td>\n",
       "      <td>84029G</td>\n",
       "      <td>KNITTED UNION FLAG HOT WATER BOTTLE</td>\n",
       "      <td>6</td>\n",
       "      <td>12/1/2010 8:26</td>\n",
       "      <td>3.39</td>\n",
       "      <td>17850.0</td>\n",
       "      <td>United Kingdom</td>\n",
       "    </tr>\n",
       "    <tr>\n",
       "      <th>4</th>\n",
       "      <td>536365</td>\n",
       "      <td>84029E</td>\n",
       "      <td>RED WOOLLY HOTTIE WHITE HEART.</td>\n",
       "      <td>6</td>\n",
       "      <td>12/1/2010 8:26</td>\n",
       "      <td>3.39</td>\n",
       "      <td>17850.0</td>\n",
       "      <td>United Kingdom</td>\n",
       "    </tr>\n",
       "  </tbody>\n",
       "</table>\n",
       "</div>"
      ],
      "text/plain": [
       "  InvoiceNo StockCode                          Description  Quantity  \\\n",
       "0    536365    85123A   WHITE HANGING HEART T-LIGHT HOLDER         6   \n",
       "1    536365     71053                  WHITE METAL LANTERN         6   \n",
       "2    536365    84406B       CREAM CUPID HEARTS COAT HANGER         8   \n",
       "3    536365    84029G  KNITTED UNION FLAG HOT WATER BOTTLE         6   \n",
       "4    536365    84029E       RED WOOLLY HOTTIE WHITE HEART.         6   \n",
       "\n",
       "      InvoiceDate  UnitPrice  CustomerID         Country  \n",
       "0  12/1/2010 8:26       2.55     17850.0  United Kingdom  \n",
       "1  12/1/2010 8:26       3.39     17850.0  United Kingdom  \n",
       "2  12/1/2010 8:26       2.75     17850.0  United Kingdom  \n",
       "3  12/1/2010 8:26       3.39     17850.0  United Kingdom  \n",
       "4  12/1/2010 8:26       3.39     17850.0  United Kingdom  "
      ]
     },
     "execution_count": 16,
     "metadata": {},
     "output_type": "execute_result"
    }
   ],
   "source": [
    "df.head(5)"
   ]
  },
  {
   "cell_type": "code",
   "execution_count": 17,
   "id": "8ab5b561",
   "metadata": {},
   "outputs": [
    {
     "data": {
      "text/html": [
       "<div>\n",
       "<style scoped>\n",
       "    .dataframe tbody tr th:only-of-type {\n",
       "        vertical-align: middle;\n",
       "    }\n",
       "\n",
       "    .dataframe tbody tr th {\n",
       "        vertical-align: top;\n",
       "    }\n",
       "\n",
       "    .dataframe thead th {\n",
       "        text-align: right;\n",
       "    }\n",
       "</style>\n",
       "<table border=\"1\" class=\"dataframe\">\n",
       "  <thead>\n",
       "    <tr style=\"text-align: right;\">\n",
       "      <th></th>\n",
       "      <th>InvoiceNo</th>\n",
       "      <th>StockCode</th>\n",
       "      <th>Description</th>\n",
       "      <th>Quantity</th>\n",
       "      <th>InvoiceDate</th>\n",
       "      <th>UnitPrice</th>\n",
       "      <th>CustomerID</th>\n",
       "      <th>Country</th>\n",
       "    </tr>\n",
       "  </thead>\n",
       "  <tbody>\n",
       "    <tr>\n",
       "      <th>622</th>\n",
       "      <td>536414</td>\n",
       "      <td>22139</td>\n",
       "      <td>NaN</td>\n",
       "      <td>56</td>\n",
       "      <td>12/1/2010 11:52</td>\n",
       "      <td>0.0</td>\n",
       "      <td>NaN</td>\n",
       "      <td>United Kingdom</td>\n",
       "    </tr>\n",
       "    <tr>\n",
       "      <th>1970</th>\n",
       "      <td>536545</td>\n",
       "      <td>21134</td>\n",
       "      <td>NaN</td>\n",
       "      <td>1</td>\n",
       "      <td>12/1/2010 14:32</td>\n",
       "      <td>0.0</td>\n",
       "      <td>NaN</td>\n",
       "      <td>United Kingdom</td>\n",
       "    </tr>\n",
       "    <tr>\n",
       "      <th>1971</th>\n",
       "      <td>536546</td>\n",
       "      <td>22145</td>\n",
       "      <td>NaN</td>\n",
       "      <td>1</td>\n",
       "      <td>12/1/2010 14:33</td>\n",
       "      <td>0.0</td>\n",
       "      <td>NaN</td>\n",
       "      <td>United Kingdom</td>\n",
       "    </tr>\n",
       "    <tr>\n",
       "      <th>1972</th>\n",
       "      <td>536547</td>\n",
       "      <td>37509</td>\n",
       "      <td>NaN</td>\n",
       "      <td>1</td>\n",
       "      <td>12/1/2010 14:33</td>\n",
       "      <td>0.0</td>\n",
       "      <td>NaN</td>\n",
       "      <td>United Kingdom</td>\n",
       "    </tr>\n",
       "    <tr>\n",
       "      <th>1987</th>\n",
       "      <td>536549</td>\n",
       "      <td>85226A</td>\n",
       "      <td>NaN</td>\n",
       "      <td>1</td>\n",
       "      <td>12/1/2010 14:34</td>\n",
       "      <td>0.0</td>\n",
       "      <td>NaN</td>\n",
       "      <td>United Kingdom</td>\n",
       "    </tr>\n",
       "  </tbody>\n",
       "</table>\n",
       "</div>"
      ],
      "text/plain": [
       "     InvoiceNo StockCode Description  Quantity      InvoiceDate  UnitPrice  \\\n",
       "622     536414     22139         NaN        56  12/1/2010 11:52        0.0   \n",
       "1970    536545     21134         NaN         1  12/1/2010 14:32        0.0   \n",
       "1971    536546     22145         NaN         1  12/1/2010 14:33        0.0   \n",
       "1972    536547     37509         NaN         1  12/1/2010 14:33        0.0   \n",
       "1987    536549    85226A         NaN         1  12/1/2010 14:34        0.0   \n",
       "\n",
       "      CustomerID         Country  \n",
       "622          NaN  United Kingdom  \n",
       "1970         NaN  United Kingdom  \n",
       "1971         NaN  United Kingdom  \n",
       "1972         NaN  United Kingdom  \n",
       "1987         NaN  United Kingdom  "
      ]
     },
     "execution_count": 17,
     "metadata": {},
     "output_type": "execute_result"
    }
   ],
   "source": [
    "description_nan = df.loc[df[\"Description\"].isnull()]\n",
    "description_nan.head()"
   ]
  },
  {
   "cell_type": "code",
   "execution_count": 18,
   "id": "e19afb58",
   "metadata": {},
   "outputs": [
    {
     "name": "stdout",
     "output_type": "stream",
     "text": [
      "******************************Description******************************\n",
      "[nan]\n",
      "******************************Quantity******************************\n",
      "[   56     1     3    23   -10   -38    19    57   -20    -6   110   -22\n",
      "    70    -2   -30   -70  -130   -80  -120   -40    -5   -12   -25   -14\n",
      "   -15   -69    -3  -140  -320     5   -24   -21   120     7    10    13\n",
      "   -19   -11   -18   -44   -50    -9   -77     2  -223   144    34     8\n",
      "    30    -4    -1    27  -150  -177    46    79    84     9   -32   288\n",
      "   -28  -145    25   460    12    36   -36   -48   -60  -939  -100    35\n",
      "   -54  -201   -53    -8   -45   -13  1000   -61   -41   -35   -64   -84\n",
      "   -16   192   -31    65   -17  5568  2560   136     4   -52  -206   320\n",
      "   960    60  -217    18  1287  -173  -234   118   -57   -42     6    26\n",
      "    -7   -99    51   -92  -114   -88   -33  -391   -87    20    16  -278\n",
      "   140    67    47    73   219   280   232   180    48   -82    72    45\n",
      "   -47  -110   -83    24  -153  -105    82   167    32   -34    11   -27\n",
      "    14    53   -46   -75   -66   150  -180  -194    17   -23   -62   -37\n",
      "    31   -91   -43   -63  -139   -29  -158   -55 -1092  -620   101   400\n",
      "   -90    90  -170   -51   -56   -49  -160   -93   -26  -168   200  -101\n",
      "   -65   -71   -58   -39  -102    64    74   800   -96   -59    50  -116\n",
      "    40  -472  -126    44    66    80   -78   100   147  -179    15  -169\n",
      " -2834  -109   108  -178  -530   170    38    52  -346  -125   107  -188\n",
      "  -240  -197   -97  -343  -455  -124   425    37  -156  -553  -400   245\n",
      "    21  -115   171  -242  -210   -72 -3167   225   750   -95   -86  -682\n",
      "   682   344   143  -117 -3667  -138  -147   -67   240  -209  -129  -275\n",
      "    58    96   420    42  -207  -104   -73  -108    63  -186    22  -151\n",
      "    33  -144]\n",
      "******************************InvoiceDate******************************\n",
      "['12/1/2010 11:52' '12/1/2010 14:32' '12/1/2010 14:33' ...\n",
      " '12/7/2011 18:35' '12/8/2011 10:33' '12/8/2011 14:06']\n",
      "******************************UnitPrice******************************\n",
      "[0.]\n",
      "******************************CustomerID******************************\n",
      "[nan]\n",
      "******************************Country******************************\n",
      "['United Kingdom']\n"
     ]
    }
   ],
   "source": [
    "unique(description_nan, colonnes)"
   ]
  },
  {
   "cell_type": "code",
   "execution_count": 19,
   "id": "23e31838",
   "metadata": {},
   "outputs": [
    {
     "data": {
      "text/plain": [
       "(1454, 8)"
      ]
     },
     "execution_count": 19,
     "metadata": {},
     "output_type": "execute_result"
    }
   ],
   "source": [
    "description_nan.shape"
   ]
  },
  {
   "cell_type": "code",
   "execution_count": 20,
   "id": "50acee2e",
   "metadata": {
    "scrolled": true
   },
   "outputs": [
    {
     "data": {
      "text/html": [
       "<div>\n",
       "<style scoped>\n",
       "    .dataframe tbody tr th:only-of-type {\n",
       "        vertical-align: middle;\n",
       "    }\n",
       "\n",
       "    .dataframe tbody tr th {\n",
       "        vertical-align: top;\n",
       "    }\n",
       "\n",
       "    .dataframe thead th {\n",
       "        text-align: right;\n",
       "    }\n",
       "</style>\n",
       "<table border=\"1\" class=\"dataframe\">\n",
       "  <thead>\n",
       "    <tr style=\"text-align: right;\">\n",
       "      <th></th>\n",
       "      <th>Quantity</th>\n",
       "      <th>UnitPrice</th>\n",
       "      <th>CustomerID</th>\n",
       "    </tr>\n",
       "  </thead>\n",
       "  <tbody>\n",
       "    <tr>\n",
       "      <th>count</th>\n",
       "      <td>1454.000000</td>\n",
       "      <td>1454.0</td>\n",
       "      <td>0.0</td>\n",
       "    </tr>\n",
       "    <tr>\n",
       "      <th>mean</th>\n",
       "      <td>-9.359697</td>\n",
       "      <td>0.0</td>\n",
       "      <td>NaN</td>\n",
       "    </tr>\n",
       "    <tr>\n",
       "      <th>std</th>\n",
       "      <td>243.238758</td>\n",
       "      <td>0.0</td>\n",
       "      <td>NaN</td>\n",
       "    </tr>\n",
       "    <tr>\n",
       "      <th>min</th>\n",
       "      <td>-3667.000000</td>\n",
       "      <td>0.0</td>\n",
       "      <td>NaN</td>\n",
       "    </tr>\n",
       "    <tr>\n",
       "      <th>25%</th>\n",
       "      <td>-24.000000</td>\n",
       "      <td>0.0</td>\n",
       "      <td>NaN</td>\n",
       "    </tr>\n",
       "    <tr>\n",
       "      <th>50%</th>\n",
       "      <td>-3.000000</td>\n",
       "      <td>0.0</td>\n",
       "      <td>NaN</td>\n",
       "    </tr>\n",
       "    <tr>\n",
       "      <th>75%</th>\n",
       "      <td>4.000000</td>\n",
       "      <td>0.0</td>\n",
       "      <td>NaN</td>\n",
       "    </tr>\n",
       "    <tr>\n",
       "      <th>max</th>\n",
       "      <td>5568.000000</td>\n",
       "      <td>0.0</td>\n",
       "      <td>NaN</td>\n",
       "    </tr>\n",
       "  </tbody>\n",
       "</table>\n",
       "</div>"
      ],
      "text/plain": [
       "          Quantity  UnitPrice  CustomerID\n",
       "count  1454.000000     1454.0         0.0\n",
       "mean     -9.359697        0.0         NaN\n",
       "std     243.238758        0.0         NaN\n",
       "min   -3667.000000        0.0         NaN\n",
       "25%     -24.000000        0.0         NaN\n",
       "50%      -3.000000        0.0         NaN\n",
       "75%       4.000000        0.0         NaN\n",
       "max    5568.000000        0.0         NaN"
      ]
     },
     "execution_count": 20,
     "metadata": {},
     "output_type": "execute_result"
    }
   ],
   "source": [
    "description_nan.describe()"
   ]
  },
  {
   "cell_type": "code",
   "execution_count": 21,
   "id": "3bab3da9",
   "metadata": {},
   "outputs": [
    {
     "data": {
      "text/html": [
       "<div>\n",
       "<style scoped>\n",
       "    .dataframe tbody tr th:only-of-type {\n",
       "        vertical-align: middle;\n",
       "    }\n",
       "\n",
       "    .dataframe tbody tr th {\n",
       "        vertical-align: top;\n",
       "    }\n",
       "\n",
       "    .dataframe thead th {\n",
       "        text-align: right;\n",
       "    }\n",
       "</style>\n",
       "<table border=\"1\" class=\"dataframe\">\n",
       "  <thead>\n",
       "    <tr style=\"text-align: right;\">\n",
       "      <th></th>\n",
       "      <th>InvoiceNo</th>\n",
       "      <th>StockCode</th>\n",
       "      <th>Description</th>\n",
       "      <th>Quantity</th>\n",
       "      <th>InvoiceDate</th>\n",
       "      <th>UnitPrice</th>\n",
       "      <th>CustomerID</th>\n",
       "      <th>Country</th>\n",
       "    </tr>\n",
       "  </thead>\n",
       "  <tbody>\n",
       "    <tr>\n",
       "      <th>622</th>\n",
       "      <td>536414</td>\n",
       "      <td>22139</td>\n",
       "      <td>NaN</td>\n",
       "      <td>56</td>\n",
       "      <td>12/1/2010 11:52</td>\n",
       "      <td>0.00</td>\n",
       "      <td>NaN</td>\n",
       "      <td>United Kingdom</td>\n",
       "    </tr>\n",
       "    <tr>\n",
       "      <th>1443</th>\n",
       "      <td>536544</td>\n",
       "      <td>21773</td>\n",
       "      <td>DECORATIVE ROSE BATHROOM BOTTLE</td>\n",
       "      <td>1</td>\n",
       "      <td>12/1/2010 14:32</td>\n",
       "      <td>2.51</td>\n",
       "      <td>NaN</td>\n",
       "      <td>United Kingdom</td>\n",
       "    </tr>\n",
       "    <tr>\n",
       "      <th>1444</th>\n",
       "      <td>536544</td>\n",
       "      <td>21774</td>\n",
       "      <td>DECORATIVE CATS BATHROOM BOTTLE</td>\n",
       "      <td>2</td>\n",
       "      <td>12/1/2010 14:32</td>\n",
       "      <td>2.51</td>\n",
       "      <td>NaN</td>\n",
       "      <td>United Kingdom</td>\n",
       "    </tr>\n",
       "    <tr>\n",
       "      <th>1445</th>\n",
       "      <td>536544</td>\n",
       "      <td>21786</td>\n",
       "      <td>POLKADOT RAIN HAT</td>\n",
       "      <td>4</td>\n",
       "      <td>12/1/2010 14:32</td>\n",
       "      <td>0.85</td>\n",
       "      <td>NaN</td>\n",
       "      <td>United Kingdom</td>\n",
       "    </tr>\n",
       "    <tr>\n",
       "      <th>1446</th>\n",
       "      <td>536544</td>\n",
       "      <td>21787</td>\n",
       "      <td>RAIN PONCHO RETROSPOT</td>\n",
       "      <td>2</td>\n",
       "      <td>12/1/2010 14:32</td>\n",
       "      <td>1.66</td>\n",
       "      <td>NaN</td>\n",
       "      <td>United Kingdom</td>\n",
       "    </tr>\n",
       "  </tbody>\n",
       "</table>\n",
       "</div>"
      ],
      "text/plain": [
       "     InvoiceNo StockCode                      Description  Quantity  \\\n",
       "622     536414     22139                              NaN        56   \n",
       "1443    536544     21773  DECORATIVE ROSE BATHROOM BOTTLE         1   \n",
       "1444    536544     21774  DECORATIVE CATS BATHROOM BOTTLE         2   \n",
       "1445    536544     21786               POLKADOT RAIN HAT          4   \n",
       "1446    536544     21787            RAIN PONCHO RETROSPOT         2   \n",
       "\n",
       "          InvoiceDate  UnitPrice  CustomerID         Country  \n",
       "622   12/1/2010 11:52       0.00         NaN  United Kingdom  \n",
       "1443  12/1/2010 14:32       2.51         NaN  United Kingdom  \n",
       "1444  12/1/2010 14:32       2.51         NaN  United Kingdom  \n",
       "1445  12/1/2010 14:32       0.85         NaN  United Kingdom  \n",
       "1446  12/1/2010 14:32       1.66         NaN  United Kingdom  "
      ]
     },
     "execution_count": 21,
     "metadata": {},
     "output_type": "execute_result"
    }
   ],
   "source": [
    "customerid_nan = df.loc[df[\"CustomerID\"].isnull()]\n",
    "customerid_nan.head()"
   ]
  },
  {
   "cell_type": "code",
   "execution_count": 22,
   "id": "677d03b7",
   "metadata": {},
   "outputs": [
    {
     "data": {
      "text/plain": [
       "(135037, 8)"
      ]
     },
     "execution_count": 22,
     "metadata": {},
     "output_type": "execute_result"
    }
   ],
   "source": [
    "customerid_nan.shape"
   ]
  },
  {
   "cell_type": "code",
   "execution_count": 23,
   "id": "dc8e4e9c",
   "metadata": {},
   "outputs": [
    {
     "name": "stdout",
     "output_type": "stream",
     "text": [
      "******************************Description******************************\n",
      "[nan 'DECORATIVE ROSE BATHROOM BOTTLE' 'DECORATIVE CATS BATHROOM BOTTLE'\n",
      " ... 'LANDMARK FRAME COVENT GARDEN ' 'BLUE DISCO HANDBAG'\n",
      " 'CREAM HANGING HEART T-LIGHT HOLDER']\n",
      "******************************Quantity******************************\n",
      "[   56     1     2     4     9    10    11     3     5     6    33    13\n",
      "    40     8     7    30    23    12   -10    15    18    22    19    17\n",
      "    21    14    34    47    28   -38    24    16    26    36    20    70\n",
      "    31    82    50    78    75    97    48    27    32   108    98    35\n",
      "    57   -20    -6   110   -22    -2   -30   -70  -130   -80  -120   -40\n",
      "    -5   -12   -25   -14   -15   -69    -3  -140  -320    38    25    37\n",
      "    49    95    -8    -4    -9    -7   -11    29   -24   -35   -21   120\n",
      "   -43   -19   -18   -44   -50    -1    54   104    39    67    52   258\n",
      "    66    44    55    46    99    61    69   -77  -223   144  -150   -13\n",
      "  -723  -177    79    84   -32   288  -100   -28  -145    80   113    45\n",
      "   106    68   267   115    65   460    71    76    90    43   213    58\n",
      "   752    53   210   172   215   129   138    42   116   135   197    41\n",
      "   -36   -48  -106   -60   -54  -939  -201   -53   -29 -2600  -990  -290\n",
      "   -45  1000   111   211    59    64  -310   -61   -41   -64   -84 -1400\n",
      "  -300    73   -57    60    96   -59   -16   192   -31   -17  5568  2560\n",
      "   136  -207   -52  -206   320   960   101  -217    94 -1430  1287  -162\n",
      "  -230  -173  -390  -234   123   118   -42   124   -99    51   -92  -741\n",
      "  -400  -114   102   -88   -33    86  -391   -87  -278   140   228  -154\n",
      " -3000  -675  -600  -210  -345  -975 -1200 -1121   -27  -541 -1277  -197\n",
      "  3000 -1100   -63 -5368   219  -259   280   232   180   -82  -178   170\n",
      "  -110    72   150   -47  -323  -450  -232   -83  -153  -524 -2472  -105\n",
      "   100   -72  -144   167   -34   175    89    74    93   164   163    63\n",
      "   117   637    81   122   158   165   -46   -75  -690   -39   -66    83\n",
      "   112  -180  -194   -26   -23   -62   -37    62   -91  -139  -158 -1479\n",
      "   -55  -576  -750    88   -93 -1092  1300   -65   -68  -620   400   -90\n",
      "  -170 -1512   -51   -56   -49  -160  -360   105 -2376  -786  -590  -168\n",
      "   200  -101   -71  -413  -664   -58  -102   -97 -1300  -212   800   146\n",
      "   143  -125   -96  -116  -108  4000  -304  -272 -1206   -95  -161  -472\n",
      "  -618  -204 -9058 -9600   160  -126  -220  -271 -1440  -324   -78  -118\n",
      "   114 -1681    87   155   125   147   204  -179  -124    85  -251 -3100\n",
      "  3100  -169   126 -2834  -109  -530  -227  -346   142   107  -188  -240\n",
      " -1060   -94  -342  -343  -455   425   220  -156  -553   145   245  -115\n",
      "   171  -242  -967  -203 -3167  -252  -443  -432 -1897   225  -434   750\n",
      "   -86  -682  -484   682   344  -635  -117 -3667   310  -384   600  -138\n",
      "  -752  -250  -147  -121   -67  -131   240  -209  -231  -129  -458  -275\n",
      " -2880  -800  -430  -380   420   -74  -192  -365  -104  -270   -73  -306\n",
      "    91  -200  -111  -840  -184  -103  -335 -1000   184  -164   121   148\n",
      "  -657 -1671 -1158 -2618 -2003  -674 -4830  -905 -1128 -1560 -1284   -81\n",
      "   314   384   370    92   131   109   133   484   149   153   257   139\n",
      "   137   628   350   179   168  1820   478   335   156   253   242   236\n",
      "   375  -256   360   323   281   392   193   181   404   256   244   207\n",
      "   199   130  1130   326   654   688   268   183   152   249   246  -864\n",
      "  -288  -186 -1510  -550  -327  -152  -313   279  -398  -280   374  -504\n",
      "  -696  -408  -149  -224  -428   212   208  -267  -175   -98  -151 -1131\n",
      "  -135    77  -900   177   132  -155  -355  -337 -1050  -338   205   300\n",
      "  -235]\n",
      "******************************InvoiceDate******************************\n",
      "['12/1/2010 11:52' '12/1/2010 14:32' '12/1/2010 14:33' ...\n",
      " '12/9/2011 10:03' '12/9/2011 10:23' '12/9/2011 10:26']\n",
      "******************************UnitPrice******************************\n",
      "[0.00000e+00 2.51000e+00 8.50000e-01 ... 9.38590e+02 9.33170e+02\n",
      " 1.71417e+03]\n",
      "******************************CustomerID******************************\n",
      "[nan]\n",
      "******************************Country******************************\n",
      "['United Kingdom' 'EIRE' 'Bahrain' 'Israel' 'Hong Kong' 'Unspecified'\n",
      " 'France' 'Switzerland' 'Portugal']\n"
     ]
    }
   ],
   "source": [
    "unique(customerid_nan, colonnes)"
   ]
  },
  {
   "cell_type": "code",
   "execution_count": 24,
   "id": "35643fec",
   "metadata": {},
   "outputs": [
    {
     "data": {
      "text/html": [
       "<div>\n",
       "<style scoped>\n",
       "    .dataframe tbody tr th:only-of-type {\n",
       "        vertical-align: middle;\n",
       "    }\n",
       "\n",
       "    .dataframe tbody tr th {\n",
       "        vertical-align: top;\n",
       "    }\n",
       "\n",
       "    .dataframe thead th {\n",
       "        text-align: right;\n",
       "    }\n",
       "</style>\n",
       "<table border=\"1\" class=\"dataframe\">\n",
       "  <thead>\n",
       "    <tr style=\"text-align: right;\">\n",
       "      <th></th>\n",
       "      <th>Quantity</th>\n",
       "      <th>UnitPrice</th>\n",
       "      <th>CustomerID</th>\n",
       "    </tr>\n",
       "  </thead>\n",
       "  <tbody>\n",
       "    <tr>\n",
       "      <th>count</th>\n",
       "      <td>135037.000000</td>\n",
       "      <td>135037.000000</td>\n",
       "      <td>0.0</td>\n",
       "    </tr>\n",
       "    <tr>\n",
       "      <th>mean</th>\n",
       "      <td>1.996868</td>\n",
       "      <td>8.078342</td>\n",
       "      <td>NaN</td>\n",
       "    </tr>\n",
       "    <tr>\n",
       "      <th>std</th>\n",
       "      <td>66.705155</td>\n",
       "      <td>151.924958</td>\n",
       "      <td>NaN</td>\n",
       "    </tr>\n",
       "    <tr>\n",
       "      <th>min</th>\n",
       "      <td>-9600.000000</td>\n",
       "      <td>-11062.060000</td>\n",
       "      <td>NaN</td>\n",
       "    </tr>\n",
       "    <tr>\n",
       "      <th>25%</th>\n",
       "      <td>1.000000</td>\n",
       "      <td>1.630000</td>\n",
       "      <td>NaN</td>\n",
       "    </tr>\n",
       "    <tr>\n",
       "      <th>50%</th>\n",
       "      <td>1.000000</td>\n",
       "      <td>3.290000</td>\n",
       "      <td>NaN</td>\n",
       "    </tr>\n",
       "    <tr>\n",
       "      <th>75%</th>\n",
       "      <td>3.000000</td>\n",
       "      <td>5.490000</td>\n",
       "      <td>NaN</td>\n",
       "    </tr>\n",
       "    <tr>\n",
       "      <th>max</th>\n",
       "      <td>5568.000000</td>\n",
       "      <td>17836.460000</td>\n",
       "      <td>NaN</td>\n",
       "    </tr>\n",
       "  </tbody>\n",
       "</table>\n",
       "</div>"
      ],
      "text/plain": [
       "            Quantity      UnitPrice  CustomerID\n",
       "count  135037.000000  135037.000000         0.0\n",
       "mean        1.996868       8.078342         NaN\n",
       "std        66.705155     151.924958         NaN\n",
       "min     -9600.000000  -11062.060000         NaN\n",
       "25%         1.000000       1.630000         NaN\n",
       "50%         1.000000       3.290000         NaN\n",
       "75%         3.000000       5.490000         NaN\n",
       "max      5568.000000   17836.460000         NaN"
      ]
     },
     "execution_count": 24,
     "metadata": {},
     "output_type": "execute_result"
    }
   ],
   "source": [
    "customerid_nan.describe()"
   ]
  },
  {
   "cell_type": "markdown",
   "id": "cb1c111a",
   "metadata": {},
   "source": [
    "Observations :\n",
    "- rien pour l'instant\n",
    "- Pour l'instant je me permet de supprimer les NaN vu le peux d'information qu'on a dessus"
   ]
  },
  {
   "cell_type": "code",
   "execution_count": 25,
   "id": "a49a3345",
   "metadata": {},
   "outputs": [
    {
     "data": {
      "text/plain": [
       "InvoiceNo      0\n",
       "StockCode      0\n",
       "Description    0\n",
       "Quantity       0\n",
       "InvoiceDate    0\n",
       "UnitPrice      0\n",
       "CustomerID     0\n",
       "Country        0\n",
       "dtype: int64"
      ]
     },
     "execution_count": 25,
     "metadata": {},
     "output_type": "execute_result"
    }
   ],
   "source": [
    "# Drop NaN\n",
    "df = df.dropna()\n",
    "df.isnull().sum()"
   ]
  },
  {
   "cell_type": "markdown",
   "id": "cf4f6128",
   "metadata": {},
   "source": [
    "## Visualisation (avec outliers)"
   ]
  },
  {
   "cell_type": "code",
   "execution_count": 26,
   "id": "2c9b727e",
   "metadata": {},
   "outputs": [
    {
     "data": {
      "image/png": "[encoded data removed]",
      "text/plain": [
       "<Figure size 640x480 with 1 Axes>"
      ]
     },
     "metadata": {},
     "output_type": "display_data"
    }
   ],
   "source": [
    "# scatter plot pour voir la relation entre la quantité du produit acheté et son prix unitaire\n",
    "sns.scatterplot(x=\"UnitPrice\", y=\"Quantity\", data=df)\n",
    "plt.show()"
   ]
  },
  {
   "cell_type": "markdown",
   "id": "0514ef79",
   "metadata": {},
   "source": [
    "Observation:\n",
    "- les outliers ont trop d'impacts sur la visualisation\n",
    "- enlever les outliers pour y voir plus claire"
   ]
  },
  {
   "cell_type": "markdown",
   "id": "742fe76b",
   "metadata": {},
   "source": [
    "## Outliers"
   ]
  },
  {
   "cell_type": "code",
   "execution_count": 27,
   "id": "5d1dad3c",
   "metadata": {},
   "outputs": [
    {
     "data": {
      "text/html": [
       "<div>\n",
       "<style scoped>\n",
       "    .dataframe tbody tr th:only-of-type {\n",
       "        vertical-align: middle;\n",
       "    }\n",
       "\n",
       "    .dataframe tbody tr th {\n",
       "        vertical-align: top;\n",
       "    }\n",
       "\n",
       "    .dataframe thead th {\n",
       "        text-align: right;\n",
       "    }\n",
       "</style>\n",
       "<table border=\"1\" class=\"dataframe\">\n",
       "  <thead>\n",
       "    <tr style=\"text-align: right;\">\n",
       "      <th></th>\n",
       "      <th>Quantity</th>\n",
       "      <th>UnitPrice</th>\n",
       "      <th>CustomerID</th>\n",
       "    </tr>\n",
       "  </thead>\n",
       "  <tbody>\n",
       "    <tr>\n",
       "      <th>count</th>\n",
       "      <td>401604.000000</td>\n",
       "      <td>401604.000000</td>\n",
       "      <td>401604.000000</td>\n",
       "    </tr>\n",
       "    <tr>\n",
       "      <th>mean</th>\n",
       "      <td>12.183273</td>\n",
       "      <td>3.474064</td>\n",
       "      <td>15281.160818</td>\n",
       "    </tr>\n",
       "    <tr>\n",
       "      <th>std</th>\n",
       "      <td>250.283037</td>\n",
       "      <td>69.764035</td>\n",
       "      <td>1714.006089</td>\n",
       "    </tr>\n",
       "    <tr>\n",
       "      <th>min</th>\n",
       "      <td>-80995.000000</td>\n",
       "      <td>0.000000</td>\n",
       "      <td>12346.000000</td>\n",
       "    </tr>\n",
       "    <tr>\n",
       "      <th>25%</th>\n",
       "      <td>2.000000</td>\n",
       "      <td>1.250000</td>\n",
       "      <td>13939.000000</td>\n",
       "    </tr>\n",
       "    <tr>\n",
       "      <th>50%</th>\n",
       "      <td>5.000000</td>\n",
       "      <td>1.950000</td>\n",
       "      <td>15145.000000</td>\n",
       "    </tr>\n",
       "    <tr>\n",
       "      <th>75%</th>\n",
       "      <td>12.000000</td>\n",
       "      <td>3.750000</td>\n",
       "      <td>16784.000000</td>\n",
       "    </tr>\n",
       "    <tr>\n",
       "      <th>max</th>\n",
       "      <td>80995.000000</td>\n",
       "      <td>38970.000000</td>\n",
       "      <td>18287.000000</td>\n",
       "    </tr>\n",
       "  </tbody>\n",
       "</table>\n",
       "</div>"
      ],
      "text/plain": [
       "            Quantity      UnitPrice     CustomerID\n",
       "count  401604.000000  401604.000000  401604.000000\n",
       "mean       12.183273       3.474064   15281.160818\n",
       "std       250.283037      69.764035    1714.006089\n",
       "min    -80995.000000       0.000000   12346.000000\n",
       "25%         2.000000       1.250000   13939.000000\n",
       "50%         5.000000       1.950000   15145.000000\n",
       "75%        12.000000       3.750000   16784.000000\n",
       "max     80995.000000   38970.000000   18287.000000"
      ]
     },
     "execution_count": 27,
     "metadata": {},
     "output_type": "execute_result"
    }
   ],
   "source": [
    "df.describe()"
   ]
  },
  {
   "cell_type": "code",
   "execution_count": 28,
   "id": "aadaf88a",
   "metadata": {},
   "outputs": [
    {
     "data": {
      "text/html": [
       "<div>\n",
       "<style scoped>\n",
       "    .dataframe tbody tr th:only-of-type {\n",
       "        vertical-align: middle;\n",
       "    }\n",
       "\n",
       "    .dataframe tbody tr th {\n",
       "        vertical-align: top;\n",
       "    }\n",
       "\n",
       "    .dataframe thead th {\n",
       "        text-align: right;\n",
       "    }\n",
       "</style>\n",
       "<table border=\"1\" class=\"dataframe\">\n",
       "  <thead>\n",
       "    <tr style=\"text-align: right;\">\n",
       "      <th></th>\n",
       "      <th>Quantity</th>\n",
       "      <th>UnitPrice</th>\n",
       "      <th>CustomerID</th>\n",
       "    </tr>\n",
       "  </thead>\n",
       "  <tbody>\n",
       "    <tr>\n",
       "      <th>count</th>\n",
       "      <td>401356.000000</td>\n",
       "      <td>401356.000000</td>\n",
       "      <td>401356.000000</td>\n",
       "    </tr>\n",
       "    <tr>\n",
       "      <th>mean</th>\n",
       "      <td>11.807375</td>\n",
       "      <td>2.991769</td>\n",
       "      <td>15281.448435</td>\n",
       "    </tr>\n",
       "    <tr>\n",
       "      <th>std</th>\n",
       "      <td>32.597322</td>\n",
       "      <td>4.596181</td>\n",
       "      <td>1713.901933</td>\n",
       "    </tr>\n",
       "    <tr>\n",
       "      <th>min</th>\n",
       "      <td>-960.000000</td>\n",
       "      <td>0.000000</td>\n",
       "      <td>12347.000000</td>\n",
       "    </tr>\n",
       "    <tr>\n",
       "      <th>25%</th>\n",
       "      <td>2.000000</td>\n",
       "      <td>1.250000</td>\n",
       "      <td>13939.000000</td>\n",
       "    </tr>\n",
       "    <tr>\n",
       "      <th>50%</th>\n",
       "      <td>5.000000</td>\n",
       "      <td>1.950000</td>\n",
       "      <td>15145.000000</td>\n",
       "    </tr>\n",
       "    <tr>\n",
       "      <th>75%</th>\n",
       "      <td>12.000000</td>\n",
       "      <td>3.750000</td>\n",
       "      <td>16788.000000</td>\n",
       "    </tr>\n",
       "    <tr>\n",
       "      <th>max</th>\n",
       "      <td>1010.000000</td>\n",
       "      <td>250.000000</td>\n",
       "      <td>18287.000000</td>\n",
       "    </tr>\n",
       "  </tbody>\n",
       "</table>\n",
       "</div>"
      ],
      "text/plain": [
       "            Quantity      UnitPrice     CustomerID\n",
       "count  401356.000000  401356.000000  401356.000000\n",
       "mean       11.807375       2.991769   15281.448435\n",
       "std        32.597322       4.596181    1713.901933\n",
       "min      -960.000000       0.000000   12347.000000\n",
       "25%         2.000000       1.250000   13939.000000\n",
       "50%         5.000000       1.950000   15145.000000\n",
       "75%        12.000000       3.750000   16788.000000\n",
       "max      1010.000000     250.000000   18287.000000"
      ]
     },
     "execution_count": 28,
     "metadata": {},
     "output_type": "execute_result"
    }
   ],
   "source": [
    "df_without_outliers = remove_outliers_df(df, cols=[\"Quantity\", \"UnitPrice\"], threshold=100)\n",
    "df_without_outliers.describe()"
   ]
  },
  {
   "cell_type": "code",
   "execution_count": 52,
   "id": "73b8adbc",
   "metadata": {},
   "outputs": [
    {
     "data": {
      "text/html": [
       "<div>\n",
       "<style scoped>\n",
       "    .dataframe tbody tr th:only-of-type {\n",
       "        vertical-align: middle;\n",
       "    }\n",
       "\n",
       "    .dataframe tbody tr th {\n",
       "        vertical-align: top;\n",
       "    }\n",
       "\n",
       "    .dataframe thead th {\n",
       "        text-align: right;\n",
       "    }\n",
       "</style>\n",
       "<table border=\"1\" class=\"dataframe\">\n",
       "  <thead>\n",
       "    <tr style=\"text-align: right;\">\n",
       "      <th></th>\n",
       "      <th>InvoiceNo</th>\n",
       "      <th>StockCode</th>\n",
       "      <th>Description</th>\n",
       "      <th>Quantity</th>\n",
       "      <th>InvoiceDate</th>\n",
       "      <th>UnitPrice</th>\n",
       "      <th>CustomerID</th>\n",
       "      <th>Country</th>\n",
       "      <th>total_price</th>\n",
       "    </tr>\n",
       "  </thead>\n",
       "  <tbody>\n",
       "    <tr>\n",
       "      <th>0</th>\n",
       "      <td>536365</td>\n",
       "      <td>85123A</td>\n",
       "      <td>WHITE HANGING HEART T-LIGHT HOLDER</td>\n",
       "      <td>6</td>\n",
       "      <td>12/1/2010 8:26</td>\n",
       "      <td>2.55</td>\n",
       "      <td>17850.0</td>\n",
       "      <td>United Kingdom</td>\n",
       "      <td>15.30</td>\n",
       "    </tr>\n",
       "    <tr>\n",
       "      <th>1</th>\n",
       "      <td>536365</td>\n",
       "      <td>71053</td>\n",
       "      <td>WHITE METAL LANTERN</td>\n",
       "      <td>6</td>\n",
       "      <td>12/1/2010 8:26</td>\n",
       "      <td>3.39</td>\n",
       "      <td>17850.0</td>\n",
       "      <td>United Kingdom</td>\n",
       "      <td>20.34</td>\n",
       "    </tr>\n",
       "    <tr>\n",
       "      <th>2</th>\n",
       "      <td>536365</td>\n",
       "      <td>84406B</td>\n",
       "      <td>CREAM CUPID HEARTS COAT HANGER</td>\n",
       "      <td>8</td>\n",
       "      <td>12/1/2010 8:26</td>\n",
       "      <td>2.75</td>\n",
       "      <td>17850.0</td>\n",
       "      <td>United Kingdom</td>\n",
       "      <td>22.00</td>\n",
       "    </tr>\n",
       "    <tr>\n",
       "      <th>3</th>\n",
       "      <td>536365</td>\n",
       "      <td>84029G</td>\n",
       "      <td>KNITTED UNION FLAG HOT WATER BOTTLE</td>\n",
       "      <td>6</td>\n",
       "      <td>12/1/2010 8:26</td>\n",
       "      <td>3.39</td>\n",
       "      <td>17850.0</td>\n",
       "      <td>United Kingdom</td>\n",
       "      <td>20.34</td>\n",
       "    </tr>\n",
       "    <tr>\n",
       "      <th>4</th>\n",
       "      <td>536365</td>\n",
       "      <td>84029E</td>\n",
       "      <td>RED WOOLLY HOTTIE WHITE HEART.</td>\n",
       "      <td>6</td>\n",
       "      <td>12/1/2010 8:26</td>\n",
       "      <td>3.39</td>\n",
       "      <td>17850.0</td>\n",
       "      <td>United Kingdom</td>\n",
       "      <td>20.34</td>\n",
       "    </tr>\n",
       "  </tbody>\n",
       "</table>\n",
       "</div>"
      ],
      "text/plain": [
       "  InvoiceNo StockCode                          Description  Quantity  \\\n",
       "0    536365    85123A   WHITE HANGING HEART T-LIGHT HOLDER         6   \n",
       "1    536365     71053                  WHITE METAL LANTERN         6   \n",
       "2    536365    84406B       CREAM CUPID HEARTS COAT HANGER         8   \n",
       "3    536365    84029G  KNITTED UNION FLAG HOT WATER BOTTLE         6   \n",
       "4    536365    84029E       RED WOOLLY HOTTIE WHITE HEART.         6   \n",
       "\n",
       "      InvoiceDate  UnitPrice  CustomerID         Country  total_price  \n",
       "0  12/1/2010 8:26       2.55     17850.0  United Kingdom        15.30  \n",
       "1  12/1/2010 8:26       3.39     17850.0  United Kingdom        20.34  \n",
       "2  12/1/2010 8:26       2.75     17850.0  United Kingdom        22.00  \n",
       "3  12/1/2010 8:26       3.39     17850.0  United Kingdom        20.34  \n",
       "4  12/1/2010 8:26       3.39     17850.0  United Kingdom        20.34  "
      ]
     },
     "execution_count": 52,
     "metadata": {},
     "output_type": "execute_result"
    }
   ],
   "source": [
    "df_without_outliers.head()"
   ]
  },
  {
   "cell_type": "markdown",
   "id": "20f3f69d",
   "metadata": {},
   "source": [
    "## Feature engineering"
   ]
  },
  {
   "cell_type": "code",
   "execution_count": 53,
   "id": "58e11f39",
   "metadata": {},
   "outputs": [],
   "source": [
    "# Conversion de la colonne 'date_time' en datetime\n",
    "df_without_outliers['InvoiceDate'] = pd.to_datetime(df_without_outliers['InvoiceDate'])"
   ]
  },
  {
   "cell_type": "code",
   "execution_count": 55,
   "id": "f5b53fb3",
   "metadata": {},
   "outputs": [],
   "source": [
    "# Extraction de l'année, du mois et du jour dans des colonnes séparées\n",
    "df_without_outliers['YEAR'] = df_without_outliers['InvoiceDate'].dt.year\n",
    "df_without_outliers['MONTH'] = df_without_outliers['InvoiceDate'].dt.month\n",
    "df_without_outliers['DAY'] = df_without_outliers['InvoiceDate'].dt.day"
   ]
  },
  {
   "cell_type": "markdown",
   "id": "3ba4a9eb",
   "metadata": {},
   "source": [
    "## Visualisation (sans outliers)"
   ]
  },
  {
   "cell_type": "code",
   "execution_count": 29,
   "id": "3779b893",
   "metadata": {},
   "outputs": [
    {
     "data": {
      "image/png": "[encoded data removed]",
      "text/plain": [
       "<Figure size 640x480 with 1 Axes>"
      ]
     },
     "metadata": {},
     "output_type": "display_data"
    }
   ],
   "source": [
    "# scatter plot pour voir la relation entre la quantité du produit acheté et son prix unitaire\n",
    "sns.scatterplot(x=\"UnitPrice\", y=\"Quantity\", data=df_without_outliers)\n",
    "plt.title('Relation entre la quantité acheté et le prix unitaire')\n",
    "plt.show()"
   ]
  },
  {
   "cell_type": "markdown",
   "id": "bebf6566",
   "metadata": {},
   "source": [
    "Observation:\n",
    "- Pour un produit, plus le prix diminue, plus il aura tendance à être acheté en grande quantité, et inversement (corrélation négative)\n",
    "- Les quantité négative sont surement du à un remboursement du produit\n",
    "- Pour une meilleur analyse, séparer les analyse sur les produits achetés et sur les produits remboursés\n",
    "- barplot en regroupant les quantité par intervalle"
   ]
  },
  {
   "cell_type": "code",
   "execution_count": 30,
   "id": "1b6d2aab",
   "metadata": {},
   "outputs": [],
   "source": [
    "# Créer deux df : df_achat et df_rembrousement\n",
    "df_achat = df_without_outliers.loc[df_without_outliers[\"Quantity\"] > 0]\n",
    "df_remboursement = df_without_outliers.loc[df_without_outliers[\"Quantity\"] < 0]"
   ]
  },
  {
   "cell_type": "code",
   "execution_count": 31,
   "id": "cf77270e",
   "metadata": {},
   "outputs": [
    {
     "name": "stderr",
     "output_type": "stream",
     "text": [
      "/tmp/ipykernel_4605/138893504.py:5: SettingWithCopyWarning: \n",
      "A value is trying to be set on a copy of a slice from a DataFrame.\n",
      "Try using .loc[row_indexer,col_indexer] = value instead\n",
      "\n",
      "See the caveats in the documentation: https://pandas.pydata.org/pandas-docs/stable/user_guide/indexing.html#returning-a-view-versus-a-copy\n",
      "  df_achat[\"bins_quantity\"] = pd.cut(df_achat[\"Quantity\"], bins=bins)\n",
      "/tmp/ipykernel_4605/138893504.py:6: SettingWithCopyWarning: \n",
      "A value is trying to be set on a copy of a slice from a DataFrame.\n",
      "Try using .loc[row_indexer,col_indexer] = value instead\n",
      "\n",
      "See the caveats in the documentation: https://pandas.pydata.org/pandas-docs/stable/user_guide/indexing.html#returning-a-view-versus-a-copy\n",
      "  df_remboursement[\"bins_quantity\"] = pd.cut(df_remboursement[\"Quantity\"], bins=bins_neg)\n"
     ]
    }
   ],
   "source": [
    "# Créer la colonne bins_quantity \n",
    "bins = list(range(0, 1100, 100))\n",
    "bins_neg = list(range(0, -1100, -100))\n",
    "bins_neg.reverse()\n",
    "df_achat[\"bins_quantity\"] = pd.cut(df_achat[\"Quantity\"], bins=bins) \n",
    "df_remboursement[\"bins_quantity\"] = pd.cut(df_remboursement[\"Quantity\"], bins=bins_neg) "
   ]
  },
  {
   "cell_type": "code",
   "execution_count": 32,
   "id": "f3e5c818",
   "metadata": {},
   "outputs": [
    {
     "data": {
      "image/png": "[encoded data removed]",
      "text/plain": [
       "<Figure size 640x480 with 1 Axes>"
      ]
     },
     "metadata": {},
     "output_type": "display_data"
    }
   ],
   "source": [
    "# scatter plot pour voir la relation entre la quantité du produit acheté et son prix unitaire\n",
    "sns.scatterplot(x=\"UnitPrice\", y=\"Quantity\", color =\"#13EAC9\", data=df_achat)\n",
    "plt.title('Relation entre la quantité acheté et le prix unitaire')\n",
    "plt.show()"
   ]
  },
  {
   "cell_type": "code",
   "execution_count": 33,
   "id": "4d26e3cb",
   "metadata": {},
   "outputs": [
    {
     "data": {
      "image/png": "[encoded data removed]",
      "text/plain": [
       "<Figure size 640x480 with 1 Axes>"
      ]
     },
     "metadata": {},
     "output_type": "display_data"
    }
   ],
   "source": [
    "# scatter plot pour voir la relation entre la quantité du produit acheté et son prix unitaire\n",
    "sns.scatterplot(x=\"UnitPrice\", y=\"Quantity\", color =\"#C79FEF\", data=df_remboursement)\n",
    "plt.title('Relation entre la quantité remboursé et le prix unitaire')\n",
    "plt.show()"
   ]
  },
  {
   "cell_type": "code",
   "execution_count": 57,
   "id": "d17076a9",
   "metadata": {},
   "outputs": [
    {
     "data": {
      "text/plain": [
       "<matplotlib.patches.Circle at 0x7f38b7b16790>"
      ]
     },
     "execution_count": 57,
     "metadata": {},
     "output_type": "execute_result"
    },
    {
     "data": {
      "image/png": "[encoded data removed]",
      "text/plain": [
       "<Figure size 640x480 with 1 Axes>"
      ]
     },
     "metadata": {},
     "output_type": "display_data"
    }
   ],
   "source": [
    "# Compter les occurrences de chaque catégorie dans la colonne \"bins_quantity\"\n",
    "quantities_count = df_achat['bins_quantity'].value_counts()\n",
    "pie_colors = [\"#13EAC9\", \"#C79FEF\"]\n",
    "\n",
    "# Sélectionner les 10 catégories de quantité les plus fréquentes\n",
    "top_quantities = quantities_count.head(10)\n",
    "\n",
    "# Fonction pour formater le pourcentage\n",
    "def format_autopct(pct):\n",
    "    if pct > 10:\n",
    "        return f\"{pct:.1f}%\"\n",
    "    else:\n",
    "        return ''\n",
    "    \n",
    "fig, ax = plt.subplots()\n",
    "\n",
    "# Créer le pie chart\n",
    "ax.pie(top_quantities, labels=['']*len(top_quantities), colors = pie_colors, autopct=format_autopct, startangle=90, textprops={'fontsize': 12})\n",
    "plt.title(\"Les catégories de quantité les plus achetées\")\n",
    "plt.axis('equal')  # Assure un aspect circulaire\n",
    "plt.xlabel(\"Quantité [0-100]\")  # Ajout du ylabel\n",
    "\n",
    "# Changing the pie chart to dont chart\n",
    "\n",
    "centre_circle = plt.Circle((0,0),0.80,fc='white')\n",
    "fig = plt.gcf()\n",
    "fig.gca().add_artist(centre_circle)"
   ]
  },
  {
   "cell_type": "code",
   "execution_count": 58,
   "id": "539b16cf",
   "metadata": {},
   "outputs": [
    {
     "data": {
      "text/plain": [
       "<matplotlib.patches.Circle at 0x7f38b7821a30>"
      ]
     },
     "execution_count": 58,
     "metadata": {},
     "output_type": "execute_result"
    },
    {
     "data": {
      "image/png": "[encoded data removed]",
      "text/plain": [
       "<Figure size 640x480 with 1 Axes>"
      ]
     },
     "metadata": {},
     "output_type": "display_data"
    }
   ],
   "source": [
    "# Compter les occurrences de chaque catégorie dans la colonne \"bins_quantity\"\n",
    "quantities_count = df_remboursement['bins_quantity'].value_counts()\n",
    "pie_colors = [\"#13EAC9\", \"#C79FEF\"]\n",
    "\n",
    "# Sélectionner les 10 catégories de quantité les plus fréquentes\n",
    "top_quantities = quantities_count.head(10)\n",
    "\n",
    "# Fonction pour formater le pourcentage\n",
    "def format_autopct(pct):\n",
    "    if pct > 10:\n",
    "        return f\"{pct:.1f}%\"\n",
    "    else:\n",
    "        return ''\n",
    "    \n",
    "fig, ax = plt.subplots()\n",
    "\n",
    "# Créer le pie chart\n",
    "ax.pie(top_quantities, labels=['']*len(top_quantities), colors = pie_colors, autopct=format_autopct, startangle=90, textprops={'fontsize': 12})\n",
    "plt.title(\"Les catégories de quantité les plus remboursés\")\n",
    "plt.axis('equal')  # Assure un aspect circulaire\n",
    "plt.xlabel(\"Quantité [0-100]\")  # Ajout du ylabel\n",
    "\n",
    "# Changing the pie chart to dont chart\n",
    "\n",
    "centre_circle = plt.Circle((0,0),0.80,fc='white')\n",
    "fig = plt.gcf()\n",
    "fig.gca().add_artist(centre_circle)"
   ]
  },
  {
   "cell_type": "code",
   "execution_count": 36,
   "id": "19900e3d",
   "metadata": {},
   "outputs": [
    {
     "data": {
      "text/html": [
       "<div>\n",
       "<style scoped>\n",
       "    .dataframe tbody tr th:only-of-type {\n",
       "        vertical-align: middle;\n",
       "    }\n",
       "\n",
       "    .dataframe tbody tr th {\n",
       "        vertical-align: top;\n",
       "    }\n",
       "\n",
       "    .dataframe thead th {\n",
       "        text-align: right;\n",
       "    }\n",
       "</style>\n",
       "<table border=\"1\" class=\"dataframe\">\n",
       "  <thead>\n",
       "    <tr style=\"text-align: right;\">\n",
       "      <th></th>\n",
       "      <th>InvoiceNo</th>\n",
       "      <th>StockCode</th>\n",
       "      <th>Description</th>\n",
       "      <th>Quantity</th>\n",
       "      <th>InvoiceDate</th>\n",
       "      <th>UnitPrice</th>\n",
       "      <th>CustomerID</th>\n",
       "      <th>Country</th>\n",
       "    </tr>\n",
       "  </thead>\n",
       "  <tbody>\n",
       "    <tr>\n",
       "      <th>0</th>\n",
       "      <td>536365</td>\n",
       "      <td>85123A</td>\n",
       "      <td>WHITE HANGING HEART T-LIGHT HOLDER</td>\n",
       "      <td>6</td>\n",
       "      <td>12/1/2010 8:26</td>\n",
       "      <td>2.55</td>\n",
       "      <td>17850.0</td>\n",
       "      <td>United Kingdom</td>\n",
       "    </tr>\n",
       "    <tr>\n",
       "      <th>1</th>\n",
       "      <td>536365</td>\n",
       "      <td>71053</td>\n",
       "      <td>WHITE METAL LANTERN</td>\n",
       "      <td>6</td>\n",
       "      <td>12/1/2010 8:26</td>\n",
       "      <td>3.39</td>\n",
       "      <td>17850.0</td>\n",
       "      <td>United Kingdom</td>\n",
       "    </tr>\n",
       "    <tr>\n",
       "      <th>2</th>\n",
       "      <td>536365</td>\n",
       "      <td>84406B</td>\n",
       "      <td>CREAM CUPID HEARTS COAT HANGER</td>\n",
       "      <td>8</td>\n",
       "      <td>12/1/2010 8:26</td>\n",
       "      <td>2.75</td>\n",
       "      <td>17850.0</td>\n",
       "      <td>United Kingdom</td>\n",
       "    </tr>\n",
       "    <tr>\n",
       "      <th>3</th>\n",
       "      <td>536365</td>\n",
       "      <td>84029G</td>\n",
       "      <td>KNITTED UNION FLAG HOT WATER BOTTLE</td>\n",
       "      <td>6</td>\n",
       "      <td>12/1/2010 8:26</td>\n",
       "      <td>3.39</td>\n",
       "      <td>17850.0</td>\n",
       "      <td>United Kingdom</td>\n",
       "    </tr>\n",
       "    <tr>\n",
       "      <th>4</th>\n",
       "      <td>536365</td>\n",
       "      <td>84029E</td>\n",
       "      <td>RED WOOLLY HOTTIE WHITE HEART.</td>\n",
       "      <td>6</td>\n",
       "      <td>12/1/2010 8:26</td>\n",
       "      <td>3.39</td>\n",
       "      <td>17850.0</td>\n",
       "      <td>United Kingdom</td>\n",
       "    </tr>\n",
       "  </tbody>\n",
       "</table>\n",
       "</div>"
      ],
      "text/plain": [
       "  InvoiceNo StockCode                          Description  Quantity  \\\n",
       "0    536365    85123A   WHITE HANGING HEART T-LIGHT HOLDER         6   \n",
       "1    536365     71053                  WHITE METAL LANTERN         6   \n",
       "2    536365    84406B       CREAM CUPID HEARTS COAT HANGER         8   \n",
       "3    536365    84029G  KNITTED UNION FLAG HOT WATER BOTTLE         6   \n",
       "4    536365    84029E       RED WOOLLY HOTTIE WHITE HEART.         6   \n",
       "\n",
       "      InvoiceDate  UnitPrice  CustomerID         Country  \n",
       "0  12/1/2010 8:26       2.55     17850.0  United Kingdom  \n",
       "1  12/1/2010 8:26       3.39     17850.0  United Kingdom  \n",
       "2  12/1/2010 8:26       2.75     17850.0  United Kingdom  \n",
       "3  12/1/2010 8:26       3.39     17850.0  United Kingdom  \n",
       "4  12/1/2010 8:26       3.39     17850.0  United Kingdom  "
      ]
     },
     "execution_count": 36,
     "metadata": {},
     "output_type": "execute_result"
    }
   ],
   "source": [
    "df_without_outliers.head()"
   ]
  },
  {
   "cell_type": "code",
   "execution_count": 37,
   "id": "45da3cee",
   "metadata": {},
   "outputs": [
    {
     "data": {
      "text/html": [
       "<div>\n",
       "<style scoped>\n",
       "    .dataframe tbody tr th:only-of-type {\n",
       "        vertical-align: middle;\n",
       "    }\n",
       "\n",
       "    .dataframe tbody tr th {\n",
       "        vertical-align: top;\n",
       "    }\n",
       "\n",
       "    .dataframe thead th {\n",
       "        text-align: right;\n",
       "    }\n",
       "</style>\n",
       "<table border=\"1\" class=\"dataframe\">\n",
       "  <thead>\n",
       "    <tr style=\"text-align: right;\">\n",
       "      <th></th>\n",
       "      <th>Quantity</th>\n",
       "      <th>UnitPrice</th>\n",
       "      <th>CustomerID</th>\n",
       "    </tr>\n",
       "  </thead>\n",
       "  <tbody>\n",
       "    <tr>\n",
       "      <th>count</th>\n",
       "      <td>401356.000000</td>\n",
       "      <td>401356.000000</td>\n",
       "      <td>401356.000000</td>\n",
       "    </tr>\n",
       "    <tr>\n",
       "      <th>mean</th>\n",
       "      <td>11.807375</td>\n",
       "      <td>2.991769</td>\n",
       "      <td>15281.448435</td>\n",
       "    </tr>\n",
       "    <tr>\n",
       "      <th>std</th>\n",
       "      <td>32.597322</td>\n",
       "      <td>4.596181</td>\n",
       "      <td>1713.901933</td>\n",
       "    </tr>\n",
       "    <tr>\n",
       "      <th>min</th>\n",
       "      <td>-960.000000</td>\n",
       "      <td>0.000000</td>\n",
       "      <td>12347.000000</td>\n",
       "    </tr>\n",
       "    <tr>\n",
       "      <th>25%</th>\n",
       "      <td>2.000000</td>\n",
       "      <td>1.250000</td>\n",
       "      <td>13939.000000</td>\n",
       "    </tr>\n",
       "    <tr>\n",
       "      <th>50%</th>\n",
       "      <td>5.000000</td>\n",
       "      <td>1.950000</td>\n",
       "      <td>15145.000000</td>\n",
       "    </tr>\n",
       "    <tr>\n",
       "      <th>75%</th>\n",
       "      <td>12.000000</td>\n",
       "      <td>3.750000</td>\n",
       "      <td>16788.000000</td>\n",
       "    </tr>\n",
       "    <tr>\n",
       "      <th>max</th>\n",
       "      <td>1010.000000</td>\n",
       "      <td>250.000000</td>\n",
       "      <td>18287.000000</td>\n",
       "    </tr>\n",
       "  </tbody>\n",
       "</table>\n",
       "</div>"
      ],
      "text/plain": [
       "            Quantity      UnitPrice     CustomerID\n",
       "count  401356.000000  401356.000000  401356.000000\n",
       "mean       11.807375       2.991769   15281.448435\n",
       "std        32.597322       4.596181    1713.901933\n",
       "min      -960.000000       0.000000   12347.000000\n",
       "25%         2.000000       1.250000   13939.000000\n",
       "50%         5.000000       1.950000   15145.000000\n",
       "75%        12.000000       3.750000   16788.000000\n",
       "max      1010.000000     250.000000   18287.000000"
      ]
     },
     "execution_count": 37,
     "metadata": {},
     "output_type": "execute_result"
    }
   ],
   "source": [
    "df_without_outliers.describe()"
   ]
  },
  {
   "cell_type": "code",
   "execution_count": 38,
   "id": "7f1778f7",
   "metadata": {},
   "outputs": [],
   "source": [
    "# Créer la colonne total_price\n",
    "df_without_outliers[\"total_price\"] = df_without_outliers[\"Quantity\"] * df_without_outliers[\"UnitPrice\"]"
   ]
  },
  {
   "cell_type": "code",
   "execution_count": 39,
   "id": "36733717",
   "metadata": {},
   "outputs": [
    {
     "data": {
      "text/html": [
       "<div>\n",
       "<style scoped>\n",
       "    .dataframe tbody tr th:only-of-type {\n",
       "        vertical-align: middle;\n",
       "    }\n",
       "\n",
       "    .dataframe tbody tr th {\n",
       "        vertical-align: top;\n",
       "    }\n",
       "\n",
       "    .dataframe thead th {\n",
       "        text-align: right;\n",
       "    }\n",
       "</style>\n",
       "<table border=\"1\" class=\"dataframe\">\n",
       "  <thead>\n",
       "    <tr style=\"text-align: right;\">\n",
       "      <th></th>\n",
       "      <th>Country</th>\n",
       "      <th>total_price</th>\n",
       "    </tr>\n",
       "  </thead>\n",
       "  <tbody>\n",
       "    <tr>\n",
       "      <th>35</th>\n",
       "      <td>United Kingdom</td>\n",
       "      <td>6652794.124</td>\n",
       "    </tr>\n",
       "    <tr>\n",
       "      <th>23</th>\n",
       "      <td>Netherlands</td>\n",
       "      <td>274738.980</td>\n",
       "    </tr>\n",
       "    <tr>\n",
       "      <th>10</th>\n",
       "      <td>EIRE</td>\n",
       "      <td>251327.070</td>\n",
       "    </tr>\n",
       "    <tr>\n",
       "      <th>14</th>\n",
       "      <td>Germany</td>\n",
       "      <td>220986.470</td>\n",
       "    </tr>\n",
       "    <tr>\n",
       "      <th>13</th>\n",
       "      <td>France</td>\n",
       "      <td>196626.050</td>\n",
       "    </tr>\n",
       "    <tr>\n",
       "      <th>0</th>\n",
       "      <td>Australia</td>\n",
       "      <td>136288.900</td>\n",
       "    </tr>\n",
       "    <tr>\n",
       "      <th>30</th>\n",
       "      <td>Spain</td>\n",
       "      <td>57597.880</td>\n",
       "    </tr>\n",
       "    <tr>\n",
       "      <th>32</th>\n",
       "      <td>Switzerland</td>\n",
       "      <td>55739.400</td>\n",
       "    </tr>\n",
       "    <tr>\n",
       "      <th>3</th>\n",
       "      <td>Belgium</td>\n",
       "      <td>40910.960</td>\n",
       "    </tr>\n",
       "    <tr>\n",
       "      <th>31</th>\n",
       "      <td>Sweden</td>\n",
       "      <td>36585.410</td>\n",
       "    </tr>\n",
       "  </tbody>\n",
       "</table>\n",
       "</div>"
      ],
      "text/plain": [
       "           Country  total_price\n",
       "35  United Kingdom  6652794.124\n",
       "23     Netherlands   274738.980\n",
       "10            EIRE   251327.070\n",
       "14         Germany   220986.470\n",
       "13          France   196626.050\n",
       "0        Australia   136288.900\n",
       "30           Spain    57597.880\n",
       "32     Switzerland    55739.400\n",
       "3          Belgium    40910.960\n",
       "31          Sweden    36585.410"
      ]
     },
     "execution_count": 39,
     "metadata": {},
     "output_type": "execute_result"
    }
   ],
   "source": [
    "# groupby par Country avec Total_price\n",
    "groupby_country = df_without_outliers.groupby(by=\"Country\")[\"total_price\"].sum()\n",
    "\n",
    "# transformer en dataframe\n",
    "df_country = groupby_country.to_frame().reset_index()\n",
    "\n",
    "\n",
    "# Triez le DataFrame par la colonne \"total_price\" dans l'ordre croissant\n",
    "df_sorted_country = df_country.sort_values(by=\"total_price\", ascending=False)\n",
    "df_sorted_country_top10 = df_sorted_country.head(10)\n",
    "df_sorted_country_top10"
   ]
  },
  {
   "cell_type": "code",
   "execution_count": 40,
   "id": "b00a7525",
   "metadata": {},
   "outputs": [
    {
     "data": {
      "text/html": [
       "<div>\n",
       "<style scoped>\n",
       "    .dataframe tbody tr th:only-of-type {\n",
       "        vertical-align: middle;\n",
       "    }\n",
       "\n",
       "    .dataframe tbody tr th {\n",
       "        vertical-align: top;\n",
       "    }\n",
       "\n",
       "    .dataframe thead th {\n",
       "        text-align: right;\n",
       "    }\n",
       "</style>\n",
       "<table border=\"1\" class=\"dataframe\">\n",
       "  <thead>\n",
       "    <tr style=\"text-align: right;\">\n",
       "      <th></th>\n",
       "      <th>Country</th>\n",
       "      <th>Quantity</th>\n",
       "    </tr>\n",
       "  </thead>\n",
       "  <tbody>\n",
       "    <tr>\n",
       "      <th>35</th>\n",
       "      <td>United Kingdom</td>\n",
       "      <td>3855310</td>\n",
       "    </tr>\n",
       "    <tr>\n",
       "      <th>23</th>\n",
       "      <td>Netherlands</td>\n",
       "      <td>191920</td>\n",
       "    </tr>\n",
       "    <tr>\n",
       "      <th>10</th>\n",
       "      <td>EIRE</td>\n",
       "      <td>134749</td>\n",
       "    </tr>\n",
       "    <tr>\n",
       "      <th>14</th>\n",
       "      <td>Germany</td>\n",
       "      <td>117340</td>\n",
       "    </tr>\n",
       "    <tr>\n",
       "      <th>13</th>\n",
       "      <td>France</td>\n",
       "      <td>109806</td>\n",
       "    </tr>\n",
       "    <tr>\n",
       "      <th>0</th>\n",
       "      <td>Australia</td>\n",
       "      <td>82491</td>\n",
       "    </tr>\n",
       "    <tr>\n",
       "      <th>31</th>\n",
       "      <td>Sweden</td>\n",
       "      <td>35632</td>\n",
       "    </tr>\n",
       "    <tr>\n",
       "      <th>32</th>\n",
       "      <td>Switzerland</td>\n",
       "      <td>29778</td>\n",
       "    </tr>\n",
       "    <tr>\n",
       "      <th>30</th>\n",
       "      <td>Spain</td>\n",
       "      <td>26819</td>\n",
       "    </tr>\n",
       "    <tr>\n",
       "      <th>3</th>\n",
       "      <td>Belgium</td>\n",
       "      <td>23152</td>\n",
       "    </tr>\n",
       "  </tbody>\n",
       "</table>\n",
       "</div>"
      ],
      "text/plain": [
       "           Country  Quantity\n",
       "35  United Kingdom   3855310\n",
       "23     Netherlands    191920\n",
       "10            EIRE    134749\n",
       "14         Germany    117340\n",
       "13          France    109806\n",
       "0        Australia     82491\n",
       "31          Sweden     35632\n",
       "32     Switzerland     29778\n",
       "30           Spain     26819\n",
       "3          Belgium     23152"
      ]
     },
     "execution_count": 40,
     "metadata": {},
     "output_type": "execute_result"
    }
   ],
   "source": [
    "# groupby par Country avec Total_price\n",
    "groupby_country_quan = df_without_outliers.groupby(by=\"Country\")[\"Quantity\"].sum()\n",
    "\n",
    "# transformer en dataframe\n",
    "df_country_quan = groupby_country_quan.to_frame().reset_index()\n",
    "\n",
    "# Triez le DataFrame par la colonne \"Quantity\" dans l'ordre croissant\n",
    "df_sorted_country_quan = df_country_quan.sort_values(by=\"Quantity\", ascending=False)\n",
    "df_sorted_country_quan_top10 = df_sorted_country_quan.head(10)\n",
    "df_sorted_country_quan_top10"
   ]
  },
  {
   "cell_type": "code",
   "execution_count": 75,
   "id": "bcc21880",
   "metadata": {
    "scrolled": false
   },
   "outputs": [
    {
     "data": {
      "image/png": "[encoded data removed]",
      "text/plain": [
       "<Figure size 1400x700 with 1 Axes>"
      ]
     },
     "metadata": {},
     "output_type": "display_data"
    }
   ],
   "source": [
    "# Bar plot du chiffre d'affaire par pays\n",
    "fig, ax = plt.subplots(figsize=(14, 7))  # Créer une figure et des axes personnalisables\n",
    "sns.barplot(x=\"Country\", y=\"total_price\", data=df_sorted_country_top10, ax=ax, palette=\"viridis\")\n",
    "\n",
    "# Obtenir les hauteurs des barres\n",
    "bar_heights = [bar.get_height() for bar in plt.gca().patches]\n",
    "\n",
    "# Calculer les pourcentages\n",
    "total = sum(bar_heights)\n",
    "percentages = [(height / total) * 100 for height in bar_heights]\n",
    "\n",
    "# Ajouter les pourcentages à chaque barre\n",
    "for bar, percentage in zip(plt.gca().patches, percentages):\n",
    "    plt.gca().annotate(f'{percentage:.1f}%', (bar.get_x() + bar.get_width() / 2, bar.get_height()), \n",
    "                       ha='center', va='bottom', fontsize=10, color='black')\n",
    "\n",
    "# Agrandir le titre, xlabel et ylabel\n",
    "ax.set_title(\"Chiffre d'affaires par pays (Top 10)\", fontsize=20)\n",
    "ax.set_xlabel(\"Pays\", fontsize=15)\n",
    "ax.set_ylabel(\"Chiffre d'affaires (Million)\", fontsize=15)\n",
    "\n",
    "plt.show()"
   ]
  },
  {
   "cell_type": "code",
   "execution_count": 50,
   "id": "10ad30f7",
   "metadata": {},
   "outputs": [
    {
     "name": "stdout",
     "output_type": "stream",
     "text": [
      "Le chiffre d'affaire total est de 8.17 Million\n"
     ]
    }
   ],
   "source": [
    "# Chiffre d'affaire total \n",
    "CA = round(df_sorted_country[\"total_price\"].sum() / 1e6, 2)\n",
    "print(f\"Le chiffre d'affaire total est de {CA} Million\")"
   ]
  },
  {
   "cell_type": "code",
   "execution_count": 79,
   "id": "1b2c412b",
   "metadata": {},
   "outputs": [
    {
     "data": {
      "text/html": [
       "<div>\n",
       "<style scoped>\n",
       "    .dataframe tbody tr th:only-of-type {\n",
       "        vertical-align: middle;\n",
       "    }\n",
       "\n",
       "    .dataframe tbody tr th {\n",
       "        vertical-align: top;\n",
       "    }\n",
       "\n",
       "    .dataframe thead th {\n",
       "        text-align: right;\n",
       "    }\n",
       "</style>\n",
       "<table border=\"1\" class=\"dataframe\">\n",
       "  <thead>\n",
       "    <tr style=\"text-align: right;\">\n",
       "      <th></th>\n",
       "      <th>YEAR</th>\n",
       "      <th>total_price</th>\n",
       "    </tr>\n",
       "  </thead>\n",
       "  <tbody>\n",
       "    <tr>\n",
       "      <th>0</th>\n",
       "      <td>2010</td>\n",
       "      <td>542235.920</td>\n",
       "    </tr>\n",
       "    <tr>\n",
       "      <th>1</th>\n",
       "      <td>2011</td>\n",
       "      <td>7625374.044</td>\n",
       "    </tr>\n",
       "  </tbody>\n",
       "</table>\n",
       "</div>"
      ],
      "text/plain": [
       "   YEAR  total_price\n",
       "0  2010   542235.920\n",
       "1  2011  7625374.044"
      ]
     },
     "execution_count": 79,
     "metadata": {},
     "output_type": "execute_result"
    }
   ],
   "source": [
    "# chiffre d'affaire par année\n",
    "groupby_CA_year = df_without_outliers.groupby(by=\"YEAR\")[\"total_price\"].sum()\n",
    "\n",
    "# transformer en dataframe\n",
    "df_CA_year = groupby_CA_year.to_frame().reset_index()\n",
    "df_CA_year"
   ]
  },
  {
   "cell_type": "code",
   "execution_count": 97,
   "id": "0f7f100f",
   "metadata": {},
   "outputs": [
    {
     "data": {
      "image/png": "[encoded data removed]",
      "text/plain": [
       "<Figure size 640x480 with 1 Axes>"
      ]
     },
     "metadata": {},
     "output_type": "display_data"
    }
   ],
   "source": [
    "sns.barplot(x='YEAR', y='total_price', data=df_CA_year, palette='viridis')\n",
    "\n",
    "# Obtenir les hauteurs des barres\n",
    "bar_heights = [bar.get_height() for bar in plt.gca().patches]\n",
    "\n",
    "# Calculer les pourcentages\n",
    "total = sum(bar_heights)\n",
    "percentages = [(height / total) * 100 for height in bar_heights]\n",
    "\n",
    "# Ajouter les pourcentages à chaque barre\n",
    "for bar, percentage in zip(plt.gca().patches, percentages):\n",
    "    plt.gca().annotate(f'{percentage:.1f}%', (bar.get_x() + bar.get_width() / 2, bar.get_height()), \n",
    "                       ha='center', va='bottom', fontsize=10, color='black')\n",
    "\n",
    "plt.title(\"Chiffre d'affaire pour 2010 et 2011\")\n",
    "plt.ylabel('CA')\n",
    "plt.show()"
   ]
  },
  {
   "cell_type": "code",
   "execution_count": 82,
   "id": "53171323",
   "metadata": {},
   "outputs": [
    {
     "data": {
      "text/html": [
       "<div>\n",
       "<style scoped>\n",
       "    .dataframe tbody tr th:only-of-type {\n",
       "        vertical-align: middle;\n",
       "    }\n",
       "\n",
       "    .dataframe tbody tr th {\n",
       "        vertical-align: top;\n",
       "    }\n",
       "\n",
       "    .dataframe thead th {\n",
       "        text-align: right;\n",
       "    }\n",
       "</style>\n",
       "<table border=\"1\" class=\"dataframe\">\n",
       "  <thead>\n",
       "    <tr style=\"text-align: right;\">\n",
       "      <th></th>\n",
       "      <th>MONTH</th>\n",
       "      <th>total_price</th>\n",
       "    </tr>\n",
       "  </thead>\n",
       "  <tbody>\n",
       "    <tr>\n",
       "      <th>0</th>\n",
       "      <td>1</td>\n",
       "      <td>450724.830</td>\n",
       "    </tr>\n",
       "    <tr>\n",
       "      <th>1</th>\n",
       "      <td>2</td>\n",
       "      <td>426789.710</td>\n",
       "    </tr>\n",
       "    <tr>\n",
       "      <th>2</th>\n",
       "      <td>3</td>\n",
       "      <td>573672.290</td>\n",
       "    </tr>\n",
       "    <tr>\n",
       "      <th>3</th>\n",
       "      <td>4</td>\n",
       "      <td>421235.351</td>\n",
       "    </tr>\n",
       "    <tr>\n",
       "      <th>4</th>\n",
       "      <td>5</td>\n",
       "      <td>647722.150</td>\n",
       "    </tr>\n",
       "    <tr>\n",
       "      <th>5</th>\n",
       "      <td>6</td>\n",
       "      <td>605878.600</td>\n",
       "    </tr>\n",
       "    <tr>\n",
       "      <th>6</th>\n",
       "      <td>7</td>\n",
       "      <td>582712.861</td>\n",
       "    </tr>\n",
       "    <tr>\n",
       "      <th>7</th>\n",
       "      <td>8</td>\n",
       "      <td>610625.730</td>\n",
       "    </tr>\n",
       "    <tr>\n",
       "      <th>8</th>\n",
       "      <td>9</td>\n",
       "      <td>908664.992</td>\n",
       "    </tr>\n",
       "    <tr>\n",
       "      <th>9</th>\n",
       "      <td>10</td>\n",
       "      <td>957105.030</td>\n",
       "    </tr>\n",
       "    <tr>\n",
       "      <th>10</th>\n",
       "      <td>11</td>\n",
       "      <td>1112236.690</td>\n",
       "    </tr>\n",
       "    <tr>\n",
       "      <th>11</th>\n",
       "      <td>12</td>\n",
       "      <td>870241.730</td>\n",
       "    </tr>\n",
       "  </tbody>\n",
       "</table>\n",
       "</div>"
      ],
      "text/plain": [
       "    MONTH  total_price\n",
       "0       1   450724.830\n",
       "1       2   426789.710\n",
       "2       3   573672.290\n",
       "3       4   421235.351\n",
       "4       5   647722.150\n",
       "5       6   605878.600\n",
       "6       7   582712.861\n",
       "7       8   610625.730\n",
       "8       9   908664.992\n",
       "9      10   957105.030\n",
       "10     11  1112236.690\n",
       "11     12   870241.730"
      ]
     },
     "execution_count": 82,
     "metadata": {},
     "output_type": "execute_result"
    }
   ],
   "source": [
    "# chiffre d'affaire par année\n",
    "groupby_CA_month = df_without_outliers.groupby(by=\"MONTH\")[\"total_price\"].sum()\n",
    "\n",
    "# transformer en dataframe\n",
    "df_CA_month = groupby_CA_month.to_frame().reset_index()\n",
    "df_CA_month"
   ]
  },
  {
   "cell_type": "code",
   "execution_count": 83,
   "id": "e513b204",
   "metadata": {},
   "outputs": [
    {
     "data": {
      "image/png": "[encoded data removed]",
      "text/plain": [
       "<Figure size 640x480 with 1 Axes>"
      ]
     },
     "metadata": {},
     "output_type": "display_data"
    }
   ],
   "source": [
    "sns.barplot(x='MONTH', y='total_price', data=df_CA_month, palette='viridis')\n",
    "\n",
    "# Obtenir les hauteurs des barres\n",
    "bar_heights = [bar.get_height() for bar in plt.gca().patches]\n",
    "\n",
    "# Calculer les pourcentages\n",
    "total = sum(bar_heights)\n",
    "percentages = [(height / total) * 100 for height in bar_heights]\n",
    "\n",
    "# Ajouter les pourcentages à chaque barre\n",
    "for bar, percentage in zip(plt.gca().patches, percentages):\n",
    "    plt.gca().annotate(f'{percentage:.1f}%', (bar.get_x() + bar.get_width() / 2, bar.get_height()), \n",
    "                       ha='center', va='bottom', fontsize=10, color='black')\n",
    "\n",
    "plt.title(\"Chiffre d'affaire par mois\")\n",
    "plt.ylabel('CA')\n",
    "plt.show()"
   ]
  },
  {
   "cell_type": "code",
   "execution_count": 94,
   "id": "eea97732",
   "metadata": {},
   "outputs": [],
   "source": [
    "CA_month_2010 = df_without_outliers.loc[df_without_outliers[\"YEAR\"] == 2010]\n",
    "CA_month_2011 = df_without_outliers.loc[df_without_outliers[\"YEAR\"] == 2011]\n",
    "\n",
    "# chiffre d'affaire par année\n",
    "groupby_CA_month_2010 = CA_month_2010.groupby(by=\"MONTH\")[\"total_price\"].sum()\n",
    "groupby_CA_month_2011 = CA_month_2011.groupby(by=\"MONTH\")[\"total_price\"].sum()\n",
    "\n",
    "# transformer en dataframe\n",
    "df_CA_month_2010 = groupby_CA_month_2010.to_frame().reset_index()\n",
    "df_CA_month_2011 = groupby_CA_month_2011.to_frame().reset_index()"
   ]
  },
  {
   "cell_type": "code",
   "execution_count": 95,
   "id": "3285ad9a",
   "metadata": {},
   "outputs": [
    {
     "data": {
      "image/png": "[encoded data removed]",
      "text/plain": [
       "<Figure size 640x480 with 1 Axes>"
      ]
     },
     "metadata": {},
     "output_type": "display_data"
    }
   ],
   "source": [
    "sns.barplot(x='MONTH', y='total_price', data=df_CA_month_2010, palette='viridis')\n",
    "\n",
    "# Obtenir les hauteurs des barres\n",
    "bar_heights = [bar.get_height() for bar in plt.gca().patches]\n",
    "\n",
    "# Calculer les pourcentages\n",
    "total = sum(bar_heights)\n",
    "percentages = [(height / total) * 100 for height in bar_heights]\n",
    "\n",
    "# Ajouter les pourcentages à chaque barre\n",
    "for bar, percentage in zip(plt.gca().patches, percentages):\n",
    "    plt.gca().annotate(f'{percentage:.1f}%', (bar.get_x() + bar.get_width() / 2, bar.get_height()), \n",
    "                       ha='center', va='bottom', fontsize=10, color='black')\n",
    "\n",
    "plt.title(\"Chiffre d'affaire par mois en 2010\")\n",
    "plt.ylabel('CA')\n",
    "plt.show()"
   ]
  },
  {
   "cell_type": "code",
   "execution_count": 96,
   "id": "91b83efb",
   "metadata": {},
   "outputs": [
    {
     "data": {
      "image/png": "[encoded data removed]",
      "text/plain": [
       "<Figure size 640x480 with 1 Axes>"
      ]
     },
     "metadata": {},
     "output_type": "display_data"
    }
   ],
   "source": [
    "sns.barplot(x='MONTH', y='total_price', data=df_CA_month_2011, palette='viridis')\n",
    "\n",
    "# Obtenir les hauteurs des barres\n",
    "bar_heights = [bar.get_height() for bar in plt.gca().patches]\n",
    "\n",
    "# Calculer les pourcentages\n",
    "total = sum(bar_heights)\n",
    "percentages = [(height / total) * 100 for height in bar_heights]\n",
    "\n",
    "# Ajouter les pourcentages à chaque barre\n",
    "for bar, percentage in zip(plt.gca().patches, percentages):\n",
    "    plt.gca().annotate(f'{percentage:.1f}%', (bar.get_x() + bar.get_width() / 2, bar.get_height()), \n",
    "                       ha='center', va='bottom', fontsize=10, color='black')\n",
    "\n",
    "plt.title(\"Chiffre d'affaire par mois en 2011\")\n",
    "plt.ylabel('CA')\n",
    "plt.show()"
   ]
  },
  {
   "cell_type": "code",
   "execution_count": 85,
   "id": "39b66cbb",
   "metadata": {},
   "outputs": [],
   "source": [
    "# chiffre d'affaire par année\n",
    "groupby_CA_day = df_without_outliers.groupby(by=\"DAY\")[\"total_price\"].sum()\n",
    "\n",
    "# transformer en dataframe\n",
    "df_CA_day = groupby_CA_day.to_frame().reset_index()"
   ]
  },
  {
   "cell_type": "code",
   "execution_count": 88,
   "id": "292f6284",
   "metadata": {},
   "outputs": [
    {
     "data": {
      "image/png": "[encoded data removed]",
      "text/plain": [
       "<Figure size 1400x700 with 1 Axes>"
      ]
     },
     "metadata": {},
     "output_type": "display_data"
    }
   ],
   "source": [
    "fig, ax = plt.subplots(figsize=(14, 7))\n",
    "sns.barplot(x='DAY', y='total_price', data=df_CA_day, ax=ax, palette='viridis')\n",
    "\n",
    "# Obtenir les hauteurs des barres\n",
    "bar_heights = [bar.get_height() for bar in plt.gca().patches]\n",
    "\n",
    "# Calculer les pourcentages\n",
    "total = sum(bar_heights)\n",
    "percentages = [(height / total) * 100 for height in bar_heights]\n",
    "\n",
    "# Ajouter les pourcentages à chaque barre\n",
    "for bar, percentage in zip(plt.gca().patches, percentages):\n",
    "    plt.gca().annotate(f'{percentage:.1f}%', (bar.get_x() + bar.get_width() / 2, bar.get_height()), \n",
    "                       ha='center', va='bottom', fontsize=10, color='black')\n",
    "\n",
    "# Agrandir le titre, xlabel et ylabel\n",
    "ax.set_title(\"Chiffre d'affaire par jour\", fontsize=20)\n",
    "ax.set_xlabel(\"DAY\", fontsize=15)\n",
    "ax.set_ylabel(\"CA\", fontsize=15)\n",
    "plt.show()"
   ]
  },
  {
   "cell_type": "markdown",
   "id": "873741a8",
   "metadata": {},
   "source": [
    "### Calcule du ROI"
   ]
  },
  {
   "cell_type": "markdown",
   "id": "87dd8c45",
   "metadata": {},
   "source": [
    "- ROI sur le chiffre d'affaires = (Chiffre d'affaires - Coûts) / Coûts\n",
    "- Pour calculer le ROI (Return on Investment) à partir des données disponible, il manque une information clé : les coûts associés à la génération des revenus.\n",
    "- j'aurai donc besoin de connaître les coûts associés à la production, à la commercialisation, à la distribution, etc."
   ]
  },
  {
   "cell_type": "code",
   "execution_count": 76,
   "id": "c23b6b51",
   "metadata": {},
   "outputs": [
    {
     "data": {
      "image/png": "[encoded data removed]",
      "text/plain": [
       "<Figure size 1400x700 with 1 Axes>"
      ]
     },
     "metadata": {},
     "output_type": "display_data"
    }
   ],
   "source": [
    "# Barplot total de produit acheté par Pays\n",
    "fig, ax = plt.subplots(figsize=(14, 7))  # Créer une figure et des axes personnalisables\n",
    "sns.barplot(x=\"Country\", y=\"Quantity\", data=df_sorted_country_quan_top10, ax=ax, palette=\"viridis\")\n",
    "\n",
    "# Obtenir les hauteurs des barres\n",
    "bar_heights = [bar.get_height() for bar in plt.gca().patches]\n",
    "\n",
    "# Calculer les pourcentages\n",
    "total = sum(bar_heights)\n",
    "percentages = [(height / total) * 100 for height in bar_heights]\n",
    "\n",
    "# Ajouter les pourcentages à chaque barre\n",
    "for bar, percentage in zip(plt.gca().patches, percentages):\n",
    "    plt.gca().annotate(f'{percentage:.1f}%', (bar.get_x() + bar.get_width() / 2, bar.get_height()), \n",
    "                       ha='center', va='bottom', fontsize=10, color='black')\n",
    "\n",
    "# Agrandir le titre, xlabel et ylabel\n",
    "ax.set_title(\"Total de produit acheté par Pays (Top 10)\", fontsize=20)\n",
    "ax.set_xlabel(\"Pays\", fontsize=15)\n",
    "ax.set_ylabel(\"Quantité\", fontsize=15)\n",
    "\n",
    "plt.show()"
   ]
  },
  {
   "cell_type": "code",
   "execution_count": 44,
   "id": "8588f8f2",
   "metadata": {},
   "outputs": [
    {
     "data": {
      "text/html": [
       "<div>\n",
       "<style scoped>\n",
       "    .dataframe tbody tr th:only-of-type {\n",
       "        vertical-align: middle;\n",
       "    }\n",
       "\n",
       "    .dataframe tbody tr th {\n",
       "        vertical-align: top;\n",
       "    }\n",
       "\n",
       "    .dataframe thead th {\n",
       "        text-align: right;\n",
       "    }\n",
       "</style>\n",
       "<table border=\"1\" class=\"dataframe\">\n",
       "  <thead>\n",
       "    <tr style=\"text-align: right;\">\n",
       "      <th></th>\n",
       "      <th>InvoiceNo</th>\n",
       "      <th>StockCode</th>\n",
       "      <th>Description</th>\n",
       "      <th>Quantity</th>\n",
       "      <th>InvoiceDate</th>\n",
       "      <th>UnitPrice</th>\n",
       "      <th>CustomerID</th>\n",
       "      <th>Country</th>\n",
       "      <th>total_price</th>\n",
       "    </tr>\n",
       "  </thead>\n",
       "  <tbody>\n",
       "    <tr>\n",
       "      <th>0</th>\n",
       "      <td>536365</td>\n",
       "      <td>85123A</td>\n",
       "      <td>WHITE HANGING HEART T-LIGHT HOLDER</td>\n",
       "      <td>6</td>\n",
       "      <td>12/1/2010 8:26</td>\n",
       "      <td>2.55</td>\n",
       "      <td>17850.0</td>\n",
       "      <td>United Kingdom</td>\n",
       "      <td>15.30</td>\n",
       "    </tr>\n",
       "    <tr>\n",
       "      <th>1</th>\n",
       "      <td>536365</td>\n",
       "      <td>71053</td>\n",
       "      <td>WHITE METAL LANTERN</td>\n",
       "      <td>6</td>\n",
       "      <td>12/1/2010 8:26</td>\n",
       "      <td>3.39</td>\n",
       "      <td>17850.0</td>\n",
       "      <td>United Kingdom</td>\n",
       "      <td>20.34</td>\n",
       "    </tr>\n",
       "    <tr>\n",
       "      <th>2</th>\n",
       "      <td>536365</td>\n",
       "      <td>84406B</td>\n",
       "      <td>CREAM CUPID HEARTS COAT HANGER</td>\n",
       "      <td>8</td>\n",
       "      <td>12/1/2010 8:26</td>\n",
       "      <td>2.75</td>\n",
       "      <td>17850.0</td>\n",
       "      <td>United Kingdom</td>\n",
       "      <td>22.00</td>\n",
       "    </tr>\n",
       "    <tr>\n",
       "      <th>3</th>\n",
       "      <td>536365</td>\n",
       "      <td>84029G</td>\n",
       "      <td>KNITTED UNION FLAG HOT WATER BOTTLE</td>\n",
       "      <td>6</td>\n",
       "      <td>12/1/2010 8:26</td>\n",
       "      <td>3.39</td>\n",
       "      <td>17850.0</td>\n",
       "      <td>United Kingdom</td>\n",
       "      <td>20.34</td>\n",
       "    </tr>\n",
       "    <tr>\n",
       "      <th>4</th>\n",
       "      <td>536365</td>\n",
       "      <td>84029E</td>\n",
       "      <td>RED WOOLLY HOTTIE WHITE HEART.</td>\n",
       "      <td>6</td>\n",
       "      <td>12/1/2010 8:26</td>\n",
       "      <td>3.39</td>\n",
       "      <td>17850.0</td>\n",
       "      <td>United Kingdom</td>\n",
       "      <td>20.34</td>\n",
       "    </tr>\n",
       "  </tbody>\n",
       "</table>\n",
       "</div>"
      ],
      "text/plain": [
       "  InvoiceNo StockCode                          Description  Quantity  \\\n",
       "0    536365    85123A   WHITE HANGING HEART T-LIGHT HOLDER         6   \n",
       "1    536365     71053                  WHITE METAL LANTERN         6   \n",
       "2    536365    84406B       CREAM CUPID HEARTS COAT HANGER         8   \n",
       "3    536365    84029G  KNITTED UNION FLAG HOT WATER BOTTLE         6   \n",
       "4    536365    84029E       RED WOOLLY HOTTIE WHITE HEART.         6   \n",
       "\n",
       "      InvoiceDate  UnitPrice  CustomerID         Country  total_price  \n",
       "0  12/1/2010 8:26       2.55     17850.0  United Kingdom        15.30  \n",
       "1  12/1/2010 8:26       3.39     17850.0  United Kingdom        20.34  \n",
       "2  12/1/2010 8:26       2.75     17850.0  United Kingdom        22.00  \n",
       "3  12/1/2010 8:26       3.39     17850.0  United Kingdom        20.34  \n",
       "4  12/1/2010 8:26       3.39     17850.0  United Kingdom        20.34  "
      ]
     },
     "execution_count": 44,
     "metadata": {},
     "output_type": "execute_result"
    }
   ],
   "source": [
    "df_without_outliers.head()"
   ]
  },
  {
   "cell_type": "code",
   "execution_count": 45,
   "id": "ba970040",
   "metadata": {},
   "outputs": [
    {
     "data": {
      "text/html": [
       "<div>\n",
       "<style scoped>\n",
       "    .dataframe tbody tr th:only-of-type {\n",
       "        vertical-align: middle;\n",
       "    }\n",
       "\n",
       "    .dataframe tbody tr th {\n",
       "        vertical-align: top;\n",
       "    }\n",
       "\n",
       "    .dataframe thead th {\n",
       "        text-align: right;\n",
       "    }\n",
       "</style>\n",
       "<table border=\"1\" class=\"dataframe\">\n",
       "  <thead>\n",
       "    <tr style=\"text-align: right;\">\n",
       "      <th></th>\n",
       "      <th>Description</th>\n",
       "      <th>Quantity</th>\n",
       "    </tr>\n",
       "  </thead>\n",
       "  <tbody>\n",
       "    <tr>\n",
       "      <th>851</th>\n",
       "      <td>CRACKED GLAZE EARRINGS RED</td>\n",
       "      <td>1</td>\n",
       "    </tr>\n",
       "    <tr>\n",
       "      <th>872</th>\n",
       "      <td>CROCHET LILAC/RED BEAR KEYRING</td>\n",
       "      <td>1</td>\n",
       "    </tr>\n",
       "    <tr>\n",
       "      <th>871</th>\n",
       "      <td>CROCHET DOG KEYRING</td>\n",
       "      <td>1</td>\n",
       "    </tr>\n",
       "    <tr>\n",
       "      <th>278</th>\n",
       "      <td>BAROQUE BUTTERFLY EARRINGS CRYSTAL</td>\n",
       "      <td>1</td>\n",
       "    </tr>\n",
       "    <tr>\n",
       "      <th>850</th>\n",
       "      <td>CRACKED GLAZE EARRINGS BROWN</td>\n",
       "      <td>1</td>\n",
       "    </tr>\n",
       "    <tr>\n",
       "      <th>1628</th>\n",
       "      <td>HEN HOUSE W CHICK IN NEST</td>\n",
       "      <td>1</td>\n",
       "    </tr>\n",
       "    <tr>\n",
       "      <th>1354</th>\n",
       "      <td>FUNKY MONKEY MUG</td>\n",
       "      <td>1</td>\n",
       "    </tr>\n",
       "    <tr>\n",
       "      <th>3414</th>\n",
       "      <td>TEA TIME BREAKFAST BASKET</td>\n",
       "      <td>1</td>\n",
       "    </tr>\n",
       "    <tr>\n",
       "      <th>2443</th>\n",
       "      <td>PINK CRYSTAL GUITAR PHONE CHARM</td>\n",
       "      <td>1</td>\n",
       "    </tr>\n",
       "    <tr>\n",
       "      <th>359</th>\n",
       "      <td>BLACK FINE BEAD NECKLACE W TASSEL</td>\n",
       "      <td>1</td>\n",
       "    </tr>\n",
       "  </tbody>\n",
       "</table>\n",
       "</div>"
      ],
      "text/plain": [
       "                             Description  Quantity\n",
       "851           CRACKED GLAZE EARRINGS RED         1\n",
       "872       CROCHET LILAC/RED BEAR KEYRING         1\n",
       "871                  CROCHET DOG KEYRING         1\n",
       "278   BAROQUE BUTTERFLY EARRINGS CRYSTAL         1\n",
       "850         CRACKED GLAZE EARRINGS BROWN         1\n",
       "1628           HEN HOUSE W CHICK IN NEST         1\n",
       "1354                    FUNKY MONKEY MUG         1\n",
       "3414           TEA TIME BREAKFAST BASKET         1\n",
       "2443     PINK CRYSTAL GUITAR PHONE CHARM         1\n",
       "359    BLACK FINE BEAD NECKLACE W TASSEL         1"
      ]
     },
     "execution_count": 45,
     "metadata": {},
     "output_type": "execute_result"
    }
   ],
   "source": [
    "# groupby par Country avec Total_price\n",
    "groupby_description_quan = df_achat.groupby(by=\"Description\")[\"Quantity\"].sum()\n",
    "\n",
    "# transformer en dataframe\n",
    "df_description_quan = groupby_description_quan.to_frame().reset_index()\n",
    "\n",
    "# Triez le DataFrame par la colonne \"Quantity\" dans l'ordre décroissant \n",
    "df_sorted_description_quan = df_description_quan.sort_values(by=\"Quantity\", ascending=True)\n",
    "df_sorted_description_quan_last10 = df_sorted_description_quan.head(10)\n",
    "df_sorted_description_quan_last10"
   ]
  },
  {
   "cell_type": "code",
   "execution_count": 46,
   "id": "09409f74",
   "metadata": {},
   "outputs": [
    {
     "data": {
      "text/html": [
       "<div>\n",
       "<style scoped>\n",
       "    .dataframe tbody tr th:only-of-type {\n",
       "        vertical-align: middle;\n",
       "    }\n",
       "\n",
       "    .dataframe tbody tr th {\n",
       "        vertical-align: top;\n",
       "    }\n",
       "\n",
       "    .dataframe thead th {\n",
       "        text-align: right;\n",
       "    }\n",
       "</style>\n",
       "<table border=\"1\" class=\"dataframe\">\n",
       "  <thead>\n",
       "    <tr style=\"text-align: right;\">\n",
       "      <th></th>\n",
       "      <th>Description</th>\n",
       "      <th>Quantity</th>\n",
       "    </tr>\n",
       "  </thead>\n",
       "  <tbody>\n",
       "    <tr>\n",
       "      <th>1762</th>\n",
       "      <td>JUMBO BAG RED RETROSPOT</td>\n",
       "      <td>44878</td>\n",
       "    </tr>\n",
       "    <tr>\n",
       "      <th>3783</th>\n",
       "      <td>WORLD WAR 2 GLIDERS ASSTD DESIGNS</td>\n",
       "      <td>35359</td>\n",
       "    </tr>\n",
       "    <tr>\n",
       "      <th>3695</th>\n",
       "      <td>WHITE HANGING HEART T-LIGHT HOLDER</td>\n",
       "      <td>32846</td>\n",
       "    </tr>\n",
       "    <tr>\n",
       "      <th>216</th>\n",
       "      <td>ASSORTED COLOUR BIRD ORNAMENT</td>\n",
       "      <td>31183</td>\n",
       "    </tr>\n",
       "    <tr>\n",
       "      <th>2269</th>\n",
       "      <td>PACK OF 72 RETROSPOT CAKE CASES</td>\n",
       "      <td>29830</td>\n",
       "    </tr>\n",
       "    <tr>\n",
       "      <th>2598</th>\n",
       "      <td>POPCORN HOLDER</td>\n",
       "      <td>24327</td>\n",
       "    </tr>\n",
       "    <tr>\n",
       "      <th>2047</th>\n",
       "      <td>MINI PAINT SET VINTAGE</td>\n",
       "      <td>23530</td>\n",
       "    </tr>\n",
       "    <tr>\n",
       "      <th>540</th>\n",
       "      <td>BROCADE RING PURSE</td>\n",
       "      <td>22927</td>\n",
       "    </tr>\n",
       "    <tr>\n",
       "      <th>2235</th>\n",
       "      <td>PACK OF 12 LONDON TISSUES</td>\n",
       "      <td>22737</td>\n",
       "    </tr>\n",
       "    <tr>\n",
       "      <th>3531</th>\n",
       "      <td>VICTORIAN GLASS HANGING T-LIGHT</td>\n",
       "      <td>22404</td>\n",
       "    </tr>\n",
       "  </tbody>\n",
       "</table>\n",
       "</div>"
      ],
      "text/plain": [
       "                             Description  Quantity\n",
       "1762             JUMBO BAG RED RETROSPOT     44878\n",
       "3783   WORLD WAR 2 GLIDERS ASSTD DESIGNS     35359\n",
       "3695  WHITE HANGING HEART T-LIGHT HOLDER     32846\n",
       "216        ASSORTED COLOUR BIRD ORNAMENT     31183\n",
       "2269     PACK OF 72 RETROSPOT CAKE CASES     29830\n",
       "2598                      POPCORN HOLDER     24327\n",
       "2047             MINI PAINT SET VINTAGE      23530\n",
       "540                  BROCADE RING PURSE      22927\n",
       "2235          PACK OF 12 LONDON TISSUES      22737\n",
       "3531     VICTORIAN GLASS HANGING T-LIGHT     22404"
      ]
     },
     "execution_count": 46,
     "metadata": {},
     "output_type": "execute_result"
    }
   ],
   "source": [
    "# Triez le DataFrame par la colonne \"Quantity\" dans l'ordre croissant\n",
    "df_sorted_description_quan_top = df_description_quan.sort_values(by=\"Quantity\", ascending=False)\n",
    "df_sorted_description_quan_top10 = df_sorted_description_quan_top.head(10)\n",
    "df_sorted_description_quan_top10"
   ]
  },
  {
   "cell_type": "code",
   "execution_count": 78,
   "id": "617b93eb",
   "metadata": {},
   "outputs": [
    {
     "data": {
      "image/png": "[encoded data removed]",
      "text/plain": [
       "<Figure size 1400x700 with 1 Axes>"
      ]
     },
     "metadata": {},
     "output_type": "display_data"
    }
   ],
   "source": [
    "# Barplot sur les produis les plus vendus \n",
    "fig, ax = plt.subplots(figsize=(14, 7))  # Créer une figure et des axes personnalisables\n",
    "sns.barplot(x=\"Quantity\", y=\"Description\", data=df_sorted_description_quan_top10, ax=ax, palette=\"viridis\")\n",
    "\n",
    "# Agrandir le titre, xlabel et ylabel\n",
    "ax.set_title(\"Produis les plus vendus (Top 10)\", fontsize=20)\n",
    "ax.set_xlabel(\"Quantité\", fontsize=15)\n",
    "ax.set_ylabel(\"Produit\", fontsize=15)\n",
    "\n",
    "plt.show()"
   ]
  },
  {
   "cell_type": "markdown",
   "id": "617cd803",
   "metadata": {},
   "source": [
    "## Model"
   ]
  },
  {
   "cell_type": "markdown",
   "id": "09bfaee0",
   "metadata": {},
   "source": [
    "### Apriori"
   ]
  },
  {
   "cell_type": "code",
   "execution_count": 46,
   "id": "5e5c8e62",
   "metadata": {},
   "outputs": [
    {
     "name": "stderr",
     "output_type": "stream",
     "text": [
      "/tmp/ipykernel_4409/1919493866.py:5: SettingWithCopyWarning: \n",
      "A value is trying to be set on a copy of a slice from a DataFrame.\n",
      "Try using .loc[row_indexer,col_indexer] = value instead\n",
      "\n",
      "See the caveats in the documentation: https://pandas.pydata.org/pandas-docs/stable/user_guide/indexing.html#returning-a-view-versus-a-copy\n",
      "  df_apriori['InvoiceNo'] = transform_str_to_int(df_apriori['InvoiceNo'])\n",
      "/tmp/ipykernel_4409/1919493866.py:6: SettingWithCopyWarning: \n",
      "A value is trying to be set on a copy of a slice from a DataFrame.\n",
      "Try using .loc[row_indexer,col_indexer] = value instead\n",
      "\n",
      "See the caveats in the documentation: https://pandas.pydata.org/pandas-docs/stable/user_guide/indexing.html#returning-a-view-versus-a-copy\n",
      "  df_apriori['StockCode'] = transform_str_to_int(df_apriori['StockCode'])\n"
     ]
    }
   ],
   "source": [
    "# Supprimer les colonnes inutiles pour l'analyse Apriori\n",
    "df_apriori = df_without_outliers[['InvoiceNo', 'StockCode', 'Quantity', 'UnitPrice']]\n",
    "\n",
    "# Convertir la colonne 'InvoiceNo' et 'StockCode' en format de chaîne de caractères\n",
    "df_apriori['InvoiceNo'] = transform_str_to_int(df_apriori['InvoiceNo'])\n",
    "df_apriori['StockCode'] = transform_str_to_int(df_apriori['StockCode'])"
   ]
  },
  {
   "cell_type": "code",
   "execution_count": 47,
   "id": "87ad3631",
   "metadata": {},
   "outputs": [
    {
     "data": {
      "text/html": [
       "<div>\n",
       "<style scoped>\n",
       "    .dataframe tbody tr th:only-of-type {\n",
       "        vertical-align: middle;\n",
       "    }\n",
       "\n",
       "    .dataframe tbody tr th {\n",
       "        vertical-align: top;\n",
       "    }\n",
       "\n",
       "    .dataframe thead th {\n",
       "        text-align: right;\n",
       "    }\n",
       "</style>\n",
       "<table border=\"1\" class=\"dataframe\">\n",
       "  <thead>\n",
       "    <tr style=\"text-align: right;\">\n",
       "      <th></th>\n",
       "      <th>InvoiceNo</th>\n",
       "      <th>StockCode</th>\n",
       "      <th>Quantity</th>\n",
       "      <th>UnitPrice</th>\n",
       "    </tr>\n",
       "  </thead>\n",
       "  <tbody>\n",
       "    <tr>\n",
       "      <th>0</th>\n",
       "      <td>7873</td>\n",
       "      <td>3152</td>\n",
       "      <td>6</td>\n",
       "      <td>2.55</td>\n",
       "    </tr>\n",
       "    <tr>\n",
       "      <th>1</th>\n",
       "      <td>7873</td>\n",
       "      <td>2339</td>\n",
       "      <td>6</td>\n",
       "      <td>3.39</td>\n",
       "    </tr>\n",
       "    <tr>\n",
       "      <th>2</th>\n",
       "      <td>7873</td>\n",
       "      <td>3037</td>\n",
       "      <td>8</td>\n",
       "      <td>2.75</td>\n",
       "    </tr>\n",
       "    <tr>\n",
       "      <th>3</th>\n",
       "      <td>7873</td>\n",
       "      <td>2523</td>\n",
       "      <td>6</td>\n",
       "      <td>3.39</td>\n",
       "    </tr>\n",
       "    <tr>\n",
       "      <th>4</th>\n",
       "      <td>7873</td>\n",
       "      <td>1115</td>\n",
       "      <td>6</td>\n",
       "      <td>3.39</td>\n",
       "    </tr>\n",
       "  </tbody>\n",
       "</table>\n",
       "</div>"
      ],
      "text/plain": [
       "   InvoiceNo  StockCode  Quantity  UnitPrice\n",
       "0       7873       3152         6       2.55\n",
       "1       7873       2339         6       3.39\n",
       "2       7873       3037         8       2.75\n",
       "3       7873       2523         6       3.39\n",
       "4       7873       1115         6       3.39"
      ]
     },
     "execution_count": 47,
     "metadata": {},
     "output_type": "execute_result"
    }
   ],
   "source": [
    "df_apriori.head()"
   ]
  },
  {
   "cell_type": "code",
   "execution_count": 48,
   "id": "e00d7795",
   "metadata": {},
   "outputs": [
    {
     "data": {
      "text/plain": [
       "(401356, 4)"
      ]
     },
     "execution_count": 48,
     "metadata": {},
     "output_type": "execute_result"
    }
   ],
   "source": [
    "df_apriori.shape"
   ]
  },
  {
   "cell_type": "code",
   "execution_count": 49,
   "id": "c0dc561d",
   "metadata": {},
   "outputs": [
    {
     "data": {
      "text/plain": [
       "InvoiceNo      int64\n",
       "StockCode      int64\n",
       "Quantity       int64\n",
       "UnitPrice    float64\n",
       "dtype: object"
      ]
     },
     "execution_count": 49,
     "metadata": {},
     "output_type": "execute_result"
    }
   ],
   "source": [
    "df_apriori.dtypes"
   ]
  },
  {
   "cell_type": "code",
   "execution_count": 50,
   "id": "2a7b4e08",
   "metadata": {},
   "outputs": [],
   "source": [
    "# # Utiliser la fonction apriori pour extraire les itemsets fréquents\n",
    "# frequent_itemsets = apriori(df_apriori, min_support=0.05, use_colnames=True)\n",
    "\n",
    "# # Générer les règles d'association à partir des itemsets fréquents\n",
    "# rules = association_rules(frequent_itemsets, metric=\"lift\", min_threshold=1)\n",
    "\n",
    "# Afficher les règles d'association\n",
    "# print(rules)"
   ]
  },
  {
   "cell_type": "markdown",
   "id": "ce2f10c6",
   "metadata": {},
   "source": [
    "### FP-Growth"
   ]
  },
  {
   "cell_type": "code",
   "execution_count": 51,
   "id": "aeb21f8e",
   "metadata": {},
   "outputs": [],
   "source": [
    "# Convert the dataset into the required format\n",
    "transactions = []\n",
    "for i in range(len(df_without_outliers)):\n",
    "    transaction = []\n",
    "    try:\n",
    "        transaction.append(str(df_without_outliers['InvoiceNo'][i]))\n",
    "        transaction.append(str(df_without_outliers['StockCode'][i]))\n",
    "        transaction.append(str(df_without_outliers['Quantity'][i]))\n",
    "        transaction.append(str(df_without_outliers['UnitPrice'][i]))\n",
    "        transaction.append(str(df_without_outliers['Description'][i]))\n",
    "        transaction.append(str(df_without_outliers['CustomerID'][i]))\n",
    "        transaction.append(str(df_without_outliers['InvoiceDate'][i]))\n",
    "        transactions.append(transaction)\n",
    "    except:\n",
    "        continue"
   ]
  },
  {
   "cell_type": "code",
   "execution_count": 163,
   "id": "bb34972e",
   "metadata": {},
   "outputs": [],
   "source": [
    "# Convert the dataset into the required format\n",
    "transactions_2 = []\n",
    "for i in range(len(df_without_outliers)):\n",
    "    transaction = []\n",
    "    try:\n",
    "        transaction.append(str(df_without_outliers['InvoiceNo'][i]))\n",
    "        transaction.append(str(df_without_outliers['Quantity'][i]))\n",
    "        transaction.append(str(df_without_outliers['UnitPrice'][i]))\n",
    "        transaction.append(str(df_without_outliers['Description'][i]))\n",
    "        transaction.append(str(df_without_outliers['CustomerID'][i]))\n",
    "        transaction.append(str(df_without_outliers['InvoiceDate'][i]))\n",
    "        transactions_2.append(transaction)\n",
    "    except:\n",
    "        continue"
   ]
  },
  {
   "cell_type": "code",
   "execution_count": 164,
   "id": "7187de95",
   "metadata": {},
   "outputs": [
    {
     "data": {
      "text/plain": [
       "295200"
      ]
     },
     "execution_count": 164,
     "metadata": {},
     "output_type": "execute_result"
    }
   ],
   "source": [
    "# Print the converted dataset\n",
    "len(transactions)"
   ]
  },
  {
   "cell_type": "code",
   "execution_count": 165,
   "id": "475ba042",
   "metadata": {},
   "outputs": [
    {
     "data": {
      "text/plain": [
       "[['536365',\n",
       "  '85123A',\n",
       "  '6',\n",
       "  '2.55',\n",
       "  'WHITE HANGING HEART T-LIGHT HOLDER',\n",
       "  '17850.0',\n",
       "  '12/1/2010 8:26']]"
      ]
     },
     "execution_count": 165,
     "metadata": {},
     "output_type": "execute_result"
    }
   ],
   "source": [
    "transactions[:1]"
   ]
  },
  {
   "cell_type": "code",
   "execution_count": 166,
   "id": "360e580f",
   "metadata": {},
   "outputs": [
    {
     "data": {
      "text/plain": [
       "295200"
      ]
     },
     "execution_count": 166,
     "metadata": {},
     "output_type": "execute_result"
    }
   ],
   "source": [
    "len(transactions_2)"
   ]
  },
  {
   "cell_type": "code",
   "execution_count": 167,
   "id": "2d8421ba",
   "metadata": {},
   "outputs": [
    {
     "data": {
      "text/plain": [
       "[['536365',\n",
       "  '6',\n",
       "  '2.55',\n",
       "  'WHITE HANGING HEART T-LIGHT HOLDER',\n",
       "  '17850.0',\n",
       "  '12/1/2010 8:26']]"
      ]
     },
     "execution_count": 167,
     "metadata": {},
     "output_type": "execute_result"
    }
   ],
   "source": [
    "transactions_2[:1]"
   ]
  },
  {
   "cell_type": "code",
   "execution_count": 168,
   "id": "cd820be9",
   "metadata": {},
   "outputs": [],
   "source": [
    "# Perform frequent itemset mining using FPGrowth\n",
    "patterns = pyfpgrowth.find_frequent_patterns(transactions_2, 30)  # Adjust the support threshold as needed\n",
    "\n",
    "# Generate association rules from the frequent itemsets\n",
    "rules = pyfpgrowth.generate_association_rules(patterns, 0.7)  # Adjust the confidence threshold as needed"
   ]
  },
  {
   "cell_type": "markdown",
   "id": "8071fca6",
   "metadata": {},
   "source": [
    "- support threshold = 20 : This means that an itemset must appear in at least 20 transactions to be considered frequent.\n",
    "- The confidence threshold is a parameter that determines the minimum confidence level required for an association rule to be considered significant. Confidence measures the strength of the relationship between the antecedent and consequent of an association rule."
   ]
  },
  {
   "cell_type": "code",
   "execution_count": 169,
   "id": "5f78f704",
   "metadata": {},
   "outputs": [],
   "source": [
    "# Create a DataFrame for frequent itemsets\n",
    "frequent_itemsets_df = pd.DataFrame.from_records(list(patterns.items()), columns=['Itemset', 'Support'])\n",
    "frequent_itemsets_df_sorted = frequent_itemsets_df.sort_values(by ='Support', ascending=False)\n",
    "\n",
    "# Create a DataFrame for association rules\n",
    "association_rules_df = pd.DataFrame.from_records(list(rules.items()), columns=['Rule', 'Confidence'])\n",
    "\n",
    "# Combine the frequent itemsets and association rules into a single DataFrame\n",
    "result_df = pd.concat([frequent_itemsets_df, association_rules_df], axis=1)\n",
    "result_df_sorted = result_df.sort_values(by ='Support', ascending=False)"
   ]
  },
  {
   "cell_type": "code",
   "execution_count": 170,
   "id": "be8a881c",
   "metadata": {},
   "outputs": [
    {
     "data": {
      "text/html": [
       "<div>\n",
       "<style scoped>\n",
       "    .dataframe tbody tr th:only-of-type {\n",
       "        vertical-align: middle;\n",
       "    }\n",
       "\n",
       "    .dataframe tbody tr th {\n",
       "        vertical-align: top;\n",
       "    }\n",
       "\n",
       "    .dataframe thead th {\n",
       "        text-align: right;\n",
       "    }\n",
       "</style>\n",
       "<table border=\"1\" class=\"dataframe\">\n",
       "  <thead>\n",
       "    <tr style=\"text-align: right;\">\n",
       "      <th></th>\n",
       "      <th>Itemset</th>\n",
       "      <th>Support</th>\n",
       "    </tr>\n",
       "  </thead>\n",
       "  <tbody>\n",
       "    <tr>\n",
       "      <th>0</th>\n",
       "      <td>(TOMATO CHARLIE+LOLA COASTER SET,)</td>\n",
       "      <td>30</td>\n",
       "    </tr>\n",
       "    <tr>\n",
       "      <th>1</th>\n",
       "      <td>(5 HOOK HANGER MAGIC TOADSTOOL,)</td>\n",
       "      <td>30</td>\n",
       "    </tr>\n",
       "    <tr>\n",
       "      <th>2</th>\n",
       "      <td>(PINK NEW BAROQUECANDLESTICK CANDLE,)</td>\n",
       "      <td>30</td>\n",
       "    </tr>\n",
       "    <tr>\n",
       "      <th>3</th>\n",
       "      <td>(BOOM BOX SPEAKER GIRLS,)</td>\n",
       "      <td>30</td>\n",
       "    </tr>\n",
       "    <tr>\n",
       "      <th>4</th>\n",
       "      <td>(GARDEN PATH JOURNAL,)</td>\n",
       "      <td>30</td>\n",
       "    </tr>\n",
       "  </tbody>\n",
       "</table>\n",
       "</div>"
      ],
      "text/plain": [
       "                                 Itemset  Support\n",
       "0     (TOMATO CHARLIE+LOLA COASTER SET,)       30\n",
       "1       (5 HOOK HANGER MAGIC TOADSTOOL,)       30\n",
       "2  (PINK NEW BAROQUECANDLESTICK CANDLE,)       30\n",
       "3              (BOOM BOX SPEAKER GIRLS,)       30\n",
       "4                 (GARDEN PATH JOURNAL,)       30"
      ]
     },
     "execution_count": 170,
     "metadata": {},
     "output_type": "execute_result"
    }
   ],
   "source": [
    "frequent_itemsets_df.head()"
   ]
  },
  {
   "cell_type": "code",
   "execution_count": 171,
   "id": "cb26ee0c",
   "metadata": {},
   "outputs": [
    {
     "data": {
      "text/plain": [
       "(34769, 2)"
      ]
     },
     "execution_count": 171,
     "metadata": {},
     "output_type": "execute_result"
    }
   ],
   "source": [
    "frequent_itemsets_df.shape"
   ]
  },
  {
   "cell_type": "markdown",
   "id": "20164ee6",
   "metadata": {},
   "source": [
    "- Itemset: This column represents the frequent itemsets discovered by the FP-Growth algorithm. An itemset is a set of items that frequently co-occur together in the dataset. It can consist of one or more items. Each row in the column represents a specific itemset found in the dataset.\n",
    "- Support: This column indicates the support value for each itemset. Support is a measure of how frequently an itemset occurs in the dataset. It represents the proportion or percentage of transactions in the dataset that contain the corresponding itemset. The support value is calculated by dividing the number of transactions containing the itemset by the total number of transactions in the dataset. It can range from 0 to 1, or it can be expressed as a percentage."
   ]
  },
  {
   "cell_type": "code",
   "execution_count": 172,
   "id": "6bf37cce",
   "metadata": {},
   "outputs": [
    {
     "data": {
      "text/html": [
       "<div>\n",
       "<style scoped>\n",
       "    .dataframe tbody tr th:only-of-type {\n",
       "        vertical-align: middle;\n",
       "    }\n",
       "\n",
       "    .dataframe tbody tr th {\n",
       "        vertical-align: top;\n",
       "    }\n",
       "\n",
       "    .dataframe thead th {\n",
       "        text-align: right;\n",
       "    }\n",
       "</style>\n",
       "<table border=\"1\" class=\"dataframe\">\n",
       "  <thead>\n",
       "    <tr style=\"text-align: right;\">\n",
       "      <th></th>\n",
       "      <th>Rule</th>\n",
       "      <th>Confidence</th>\n",
       "    </tr>\n",
       "  </thead>\n",
       "  <tbody>\n",
       "    <tr>\n",
       "      <th>0</th>\n",
       "      <td>(GARDEN PATH JOURNAL,)</td>\n",
       "      <td>((2.55,), 1.0)</td>\n",
       "    </tr>\n",
       "    <tr>\n",
       "      <th>1</th>\n",
       "      <td>(ANTIQUE GLASS HEART DECORATION ,)</td>\n",
       "      <td>((1.95,), 1.0)</td>\n",
       "    </tr>\n",
       "    <tr>\n",
       "      <th>2</th>\n",
       "      <td>(GREEN JUICY FRUIT PHOTO FRAME,)</td>\n",
       "      <td>((2.55,), 1.0)</td>\n",
       "    </tr>\n",
       "    <tr>\n",
       "      <th>3</th>\n",
       "      <td>(MULTI HEARTS  STICKERS,)</td>\n",
       "      <td>((0.85,), 1.0)</td>\n",
       "    </tr>\n",
       "    <tr>\n",
       "      <th>4</th>\n",
       "      <td>(PACK 6 HEART/ICE-CREAM PATCHES,)</td>\n",
       "      <td>((1.25,), 1.0)</td>\n",
       "    </tr>\n",
       "  </tbody>\n",
       "</table>\n",
       "</div>"
      ],
      "text/plain": [
       "                                 Rule      Confidence\n",
       "0              (GARDEN PATH JOURNAL,)  ((2.55,), 1.0)\n",
       "1  (ANTIQUE GLASS HEART DECORATION ,)  ((1.95,), 1.0)\n",
       "2    (GREEN JUICY FRUIT PHOTO FRAME,)  ((2.55,), 1.0)\n",
       "3           (MULTI HEARTS  STICKERS,)  ((0.85,), 1.0)\n",
       "4   (PACK 6 HEART/ICE-CREAM PATCHES,)  ((1.25,), 1.0)"
      ]
     },
     "execution_count": 172,
     "metadata": {},
     "output_type": "execute_result"
    }
   ],
   "source": [
    "association_rules_df.head()"
   ]
  },
  {
   "cell_type": "code",
   "execution_count": 173,
   "id": "a6e3a675",
   "metadata": {},
   "outputs": [
    {
     "data": {
      "text/plain": [
       "(21762, 2)"
      ]
     },
     "execution_count": 173,
     "metadata": {},
     "output_type": "execute_result"
    }
   ],
   "source": [
    "association_rules_df.shape"
   ]
  },
  {
   "cell_type": "code",
   "execution_count": 174,
   "id": "0c581ace",
   "metadata": {},
   "outputs": [],
   "source": [
    "frequent_itemsets_df[\"Support_ratio\"] = frequent_itemsets_df[\"Support\"] / len(transactions)"
   ]
  },
  {
   "cell_type": "code",
   "execution_count": 175,
   "id": "51b11f44",
   "metadata": {},
   "outputs": [],
   "source": [
    "frequent_itemsets_df_sorted[\"Support_ratio\"] = frequent_itemsets_df_sorted[\"Support\"] / len(transactions)"
   ]
  },
  {
   "cell_type": "code",
   "execution_count": 176,
   "id": "03189f8b",
   "metadata": {},
   "outputs": [
    {
     "data": {
      "text/html": [
       "<div>\n",
       "<style scoped>\n",
       "    .dataframe tbody tr th:only-of-type {\n",
       "        vertical-align: middle;\n",
       "    }\n",
       "\n",
       "    .dataframe tbody tr th {\n",
       "        vertical-align: top;\n",
       "    }\n",
       "\n",
       "    .dataframe thead th {\n",
       "        text-align: right;\n",
       "    }\n",
       "</style>\n",
       "<table border=\"1\" class=\"dataframe\">\n",
       "  <thead>\n",
       "    <tr style=\"text-align: right;\">\n",
       "      <th></th>\n",
       "      <th>Itemset</th>\n",
       "      <th>Support</th>\n",
       "      <th>Support_ratio</th>\n",
       "    </tr>\n",
       "  </thead>\n",
       "  <tbody>\n",
       "    <tr>\n",
       "      <th>0</th>\n",
       "      <td>(TOMATO CHARLIE+LOLA COASTER SET,)</td>\n",
       "      <td>30</td>\n",
       "      <td>0.000102</td>\n",
       "    </tr>\n",
       "    <tr>\n",
       "      <th>1</th>\n",
       "      <td>(5 HOOK HANGER MAGIC TOADSTOOL,)</td>\n",
       "      <td>30</td>\n",
       "      <td>0.000102</td>\n",
       "    </tr>\n",
       "    <tr>\n",
       "      <th>2</th>\n",
       "      <td>(PINK NEW BAROQUECANDLESTICK CANDLE,)</td>\n",
       "      <td>30</td>\n",
       "      <td>0.000102</td>\n",
       "    </tr>\n",
       "    <tr>\n",
       "      <th>3</th>\n",
       "      <td>(BOOM BOX SPEAKER GIRLS,)</td>\n",
       "      <td>30</td>\n",
       "      <td>0.000102</td>\n",
       "    </tr>\n",
       "    <tr>\n",
       "      <th>4</th>\n",
       "      <td>(GARDEN PATH JOURNAL,)</td>\n",
       "      <td>30</td>\n",
       "      <td>0.000102</td>\n",
       "    </tr>\n",
       "  </tbody>\n",
       "</table>\n",
       "</div>"
      ],
      "text/plain": [
       "                                 Itemset  Support  Support_ratio\n",
       "0     (TOMATO CHARLIE+LOLA COASTER SET,)       30       0.000102\n",
       "1       (5 HOOK HANGER MAGIC TOADSTOOL,)       30       0.000102\n",
       "2  (PINK NEW BAROQUECANDLESTICK CANDLE,)       30       0.000102\n",
       "3              (BOOM BOX SPEAKER GIRLS,)       30       0.000102\n",
       "4                 (GARDEN PATH JOURNAL,)       30       0.000102"
      ]
     },
     "execution_count": 176,
     "metadata": {},
     "output_type": "execute_result"
    }
   ],
   "source": [
    "frequent_itemsets_df.head()"
   ]
  },
  {
   "cell_type": "code",
   "execution_count": 195,
   "id": "3ad7511c",
   "metadata": {},
   "outputs": [
    {
     "data": {
      "text/html": [
       "<div>\n",
       "<style scoped>\n",
       "    .dataframe tbody tr th:only-of-type {\n",
       "        vertical-align: middle;\n",
       "    }\n",
       "\n",
       "    .dataframe tbody tr th {\n",
       "        vertical-align: top;\n",
       "    }\n",
       "\n",
       "    .dataframe thead th {\n",
       "        text-align: right;\n",
       "    }\n",
       "</style>\n",
       "<table border=\"1\" class=\"dataframe\">\n",
       "  <thead>\n",
       "    <tr style=\"text-align: right;\">\n",
       "      <th></th>\n",
       "      <th>Itemset</th>\n",
       "      <th>Support</th>\n",
       "      <th>Support_ratio</th>\n",
       "    </tr>\n",
       "  </thead>\n",
       "  <tbody>\n",
       "    <tr>\n",
       "      <th>28242</th>\n",
       "      <td>(9.95, PHOTO FRAME 3 CLASSIC HANGING)</td>\n",
       "      <td>191</td>\n",
       "      <td>0.000647</td>\n",
       "    </tr>\n",
       "    <tr>\n",
       "      <th>28968</th>\n",
       "      <td>(2.55, LONDON BUS COFFEE MUG)</td>\n",
       "      <td>191</td>\n",
       "      <td>0.000647</td>\n",
       "    </tr>\n",
       "    <tr>\n",
       "      <th>34654</th>\n",
       "      <td>(6, 7.95)</td>\n",
       "      <td>191</td>\n",
       "      <td>0.000647</td>\n",
       "    </tr>\n",
       "    <tr>\n",
       "      <th>28025</th>\n",
       "      <td>(15756.0,)</td>\n",
       "      <td>191</td>\n",
       "      <td>0.000647</td>\n",
       "    </tr>\n",
       "    <tr>\n",
       "      <th>28021</th>\n",
       "      <td>(12753.0,)</td>\n",
       "      <td>191</td>\n",
       "      <td>0.000647</td>\n",
       "    </tr>\n",
       "    <tr>\n",
       "      <th>...</th>\n",
       "      <td>...</td>\n",
       "      <td>...</td>\n",
       "      <td>...</td>\n",
       "    </tr>\n",
       "    <tr>\n",
       "      <th>27927</th>\n",
       "      <td>(1.25, HEART IVORY TRELLIS SMALL)</td>\n",
       "      <td>183</td>\n",
       "      <td>0.000620</td>\n",
       "    </tr>\n",
       "    <tr>\n",
       "      <th>33761</th>\n",
       "      <td>(1, 15005.0)</td>\n",
       "      <td>183</td>\n",
       "      <td>0.000620</td>\n",
       "    </tr>\n",
       "    <tr>\n",
       "      <th>31767</th>\n",
       "      <td>(2, 7.95, DOORMAT HEARTS)</td>\n",
       "      <td>183</td>\n",
       "      <td>0.000620</td>\n",
       "    </tr>\n",
       "    <tr>\n",
       "      <th>27830</th>\n",
       "      <td>(-24,)</td>\n",
       "      <td>183</td>\n",
       "      <td>0.000620</td>\n",
       "    </tr>\n",
       "    <tr>\n",
       "      <th>33539</th>\n",
       "      <td>(10.95, 16, REGENCY CAKESTAND 3 TIER)</td>\n",
       "      <td>183</td>\n",
       "      <td>0.000620</td>\n",
       "    </tr>\n",
       "  </tbody>\n",
       "</table>\n",
       "<p>100 rows × 3 columns</p>\n",
       "</div>"
      ],
      "text/plain": [
       "                                     Itemset  Support  Support_ratio\n",
       "28242  (9.95, PHOTO FRAME 3 CLASSIC HANGING)      191       0.000647\n",
       "28968          (2.55, LONDON BUS COFFEE MUG)      191       0.000647\n",
       "34654                              (6, 7.95)      191       0.000647\n",
       "28025                             (15756.0,)      191       0.000647\n",
       "28021                             (12753.0,)      191       0.000647\n",
       "...                                      ...      ...            ...\n",
       "27927      (1.25, HEART IVORY TRELLIS SMALL)      183       0.000620\n",
       "33761                           (1, 15005.0)      183       0.000620\n",
       "31767              (2, 7.95, DOORMAT HEARTS)      183       0.000620\n",
       "27830                                 (-24,)      183       0.000620\n",
       "33539  (10.95, 16, REGENCY CAKESTAND 3 TIER)      183       0.000620\n",
       "\n",
       "[100 rows x 3 columns]"
      ]
     },
     "execution_count": 195,
     "metadata": {},
     "output_type": "execute_result"
    }
   ],
   "source": [
    "frequent_itemsets_df_sorted.iloc[1000:1100]"
   ]
  },
  {
   "cell_type": "code",
   "execution_count": 178,
   "id": "2d259a98",
   "metadata": {},
   "outputs": [],
   "source": [
    "association_rules_df[['Confidence', 'Confidence_score']] = association_rules_df['Confidence'].apply(pd.Series)"
   ]
  },
  {
   "cell_type": "code",
   "execution_count": 179,
   "id": "76e62894",
   "metadata": {},
   "outputs": [],
   "source": [
    "association_rules_df = association_rules_df.rename(columns={'Rule': 'Antecedent', 'Confidence': 'Consequent'})"
   ]
  },
  {
   "cell_type": "code",
   "execution_count": 180,
   "id": "58e1045f",
   "metadata": {},
   "outputs": [],
   "source": [
    "association_rules_df_sorted = association_rules_df.sort_values(by ='Confidence_score', ascending=True)"
   ]
  },
  {
   "cell_type": "code",
   "execution_count": 181,
   "id": "544854bf",
   "metadata": {},
   "outputs": [
    {
     "data": {
      "text/html": [
       "<div>\n",
       "<style scoped>\n",
       "    .dataframe tbody tr th:only-of-type {\n",
       "        vertical-align: middle;\n",
       "    }\n",
       "\n",
       "    .dataframe tbody tr th {\n",
       "        vertical-align: top;\n",
       "    }\n",
       "\n",
       "    .dataframe thead th {\n",
       "        text-align: right;\n",
       "    }\n",
       "</style>\n",
       "<table border=\"1\" class=\"dataframe\">\n",
       "  <thead>\n",
       "    <tr style=\"text-align: right;\">\n",
       "      <th></th>\n",
       "      <th>Antecedent</th>\n",
       "      <th>Consequent</th>\n",
       "      <th>Confidence_score</th>\n",
       "    </tr>\n",
       "  </thead>\n",
       "  <tbody>\n",
       "    <tr>\n",
       "      <th>0</th>\n",
       "      <td>(GARDEN PATH JOURNAL,)</td>\n",
       "      <td>(2.55,)</td>\n",
       "      <td>1.0</td>\n",
       "    </tr>\n",
       "    <tr>\n",
       "      <th>1</th>\n",
       "      <td>(ANTIQUE GLASS HEART DECORATION ,)</td>\n",
       "      <td>(1.95,)</td>\n",
       "      <td>1.0</td>\n",
       "    </tr>\n",
       "    <tr>\n",
       "      <th>2</th>\n",
       "      <td>(GREEN JUICY FRUIT PHOTO FRAME,)</td>\n",
       "      <td>(2.55,)</td>\n",
       "      <td>1.0</td>\n",
       "    </tr>\n",
       "    <tr>\n",
       "      <th>3</th>\n",
       "      <td>(MULTI HEARTS  STICKERS,)</td>\n",
       "      <td>(0.85,)</td>\n",
       "      <td>1.0</td>\n",
       "    </tr>\n",
       "    <tr>\n",
       "      <th>4</th>\n",
       "      <td>(PACK 6 HEART/ICE-CREAM PATCHES,)</td>\n",
       "      <td>(1.25,)</td>\n",
       "      <td>1.0</td>\n",
       "    </tr>\n",
       "  </tbody>\n",
       "</table>\n",
       "</div>"
      ],
      "text/plain": [
       "                           Antecedent Consequent  Confidence_score\n",
       "0              (GARDEN PATH JOURNAL,)    (2.55,)               1.0\n",
       "1  (ANTIQUE GLASS HEART DECORATION ,)    (1.95,)               1.0\n",
       "2    (GREEN JUICY FRUIT PHOTO FRAME,)    (2.55,)               1.0\n",
       "3           (MULTI HEARTS  STICKERS,)    (0.85,)               1.0\n",
       "4   (PACK 6 HEART/ICE-CREAM PATCHES,)    (1.25,)               1.0"
      ]
     },
     "execution_count": 181,
     "metadata": {},
     "output_type": "execute_result"
    }
   ],
   "source": [
    "association_rules_df.head(5)"
   ]
  },
  {
   "cell_type": "code",
   "execution_count": 182,
   "id": "ddacb99e",
   "metadata": {},
   "outputs": [
    {
     "data": {
      "text/html": [
       "<div>\n",
       "<style scoped>\n",
       "    .dataframe tbody tr th:only-of-type {\n",
       "        vertical-align: middle;\n",
       "    }\n",
       "\n",
       "    .dataframe tbody tr th {\n",
       "        vertical-align: top;\n",
       "    }\n",
       "\n",
       "    .dataframe thead th {\n",
       "        text-align: right;\n",
       "    }\n",
       "</style>\n",
       "<table border=\"1\" class=\"dataframe\">\n",
       "  <thead>\n",
       "    <tr style=\"text-align: right;\">\n",
       "      <th></th>\n",
       "      <th>Antecedent</th>\n",
       "      <th>Consequent</th>\n",
       "      <th>Confidence_score</th>\n",
       "    </tr>\n",
       "  </thead>\n",
       "  <tbody>\n",
       "    <tr>\n",
       "      <th>4112</th>\n",
       "      <td>(17552.0,)</td>\n",
       "      <td>(569007, 9/29/2011 18:51)</td>\n",
       "      <td>0.700000</td>\n",
       "    </tr>\n",
       "    <tr>\n",
       "      <th>16208</th>\n",
       "      <td>(14656.0,)</td>\n",
       "      <td>(1,)</td>\n",
       "      <td>0.700000</td>\n",
       "    </tr>\n",
       "    <tr>\n",
       "      <th>4026</th>\n",
       "      <td>(8/11/2011 15:25,)</td>\n",
       "      <td>(13588.0,)</td>\n",
       "      <td>0.700000</td>\n",
       "    </tr>\n",
       "    <tr>\n",
       "      <th>19182</th>\n",
       "      <td>(17341.0,)</td>\n",
       "      <td>(1,)</td>\n",
       "      <td>0.700637</td>\n",
       "    </tr>\n",
       "    <tr>\n",
       "      <th>17459</th>\n",
       "      <td>(16303.0,)</td>\n",
       "      <td>(563404, 8/16/2011 11:04)</td>\n",
       "      <td>0.701493</td>\n",
       "    </tr>\n",
       "  </tbody>\n",
       "</table>\n",
       "</div>"
      ],
      "text/plain": [
       "               Antecedent                 Consequent  Confidence_score\n",
       "4112           (17552.0,)  (569007, 9/29/2011 18:51)          0.700000\n",
       "16208          (14656.0,)                       (1,)          0.700000\n",
       "4026   (8/11/2011 15:25,)                 (13588.0,)          0.700000\n",
       "19182          (17341.0,)                       (1,)          0.700637\n",
       "17459          (16303.0,)  (563404, 8/16/2011 11:04)          0.701493"
      ]
     },
     "execution_count": 182,
     "metadata": {},
     "output_type": "execute_result"
    }
   ],
   "source": [
    "association_rules_df_sorted.head()"
   ]
  },
  {
   "cell_type": "code",
   "execution_count": 184,
   "id": "dbbd8d83",
   "metadata": {},
   "outputs": [
    {
     "data": {
      "text/plain": [
       "(21762, 3)"
      ]
     },
     "execution_count": 184,
     "metadata": {},
     "output_type": "execute_result"
    }
   ],
   "source": [
    "association_rules_df_sorted.shape"
   ]
  },
  {
   "cell_type": "markdown",
   "id": "7d3f568c",
   "metadata": {},
   "source": [
    "- Antecedent: This column represents the antecedent of an association rule. The antecedent is the set of items that are found in the transactions or dataset and act as the condition or premise of the rule. It specifies the items that must be present for the consequent to occur.\n",
    "- Consequent: This column represents the consequent of an association rule. The consequent is the item or set of items that are predicted or implied to occur in a transaction given the presence of the antecedent. It represents the item(s) that are expected to be found in the transaction based on the association rule.\n",
    "- Confidence_score: This column represents the confidence score associated with the association rule. Confidence is a measure of the conditional probability of the consequent occurring given the antecedent. It indicates the strength of the rule or the likelihood of the consequent appearing in a transaction when the antecedent is present."
   ]
  },
  {
   "cell_type": "markdown",
   "id": "70160c3b",
   "metadata": {},
   "source": [
    "### Export des données"
   ]
  },
  {
   "cell_type": "code",
   "execution_count": 185,
   "id": "6a77304f",
   "metadata": {},
   "outputs": [],
   "source": [
    "association_rules_df.to_csv(\"data/association_rules_df_2.csv\", index=True)"
   ]
  },
  {
   "cell_type": "markdown",
   "id": "92fbd4c4",
   "metadata": {},
   "source": [
    "### Ré-import des données "
   ]
  },
  {
   "cell_type": "code",
   "execution_count": 186,
   "id": "fa78a6fb",
   "metadata": {},
   "outputs": [
    {
     "data": {
      "text/html": [
       "<div>\n",
       "<style scoped>\n",
       "    .dataframe tbody tr th:only-of-type {\n",
       "        vertical-align: middle;\n",
       "    }\n",
       "\n",
       "    .dataframe tbody tr th {\n",
       "        vertical-align: top;\n",
       "    }\n",
       "\n",
       "    .dataframe thead th {\n",
       "        text-align: right;\n",
       "    }\n",
       "</style>\n",
       "<table border=\"1\" class=\"dataframe\">\n",
       "  <thead>\n",
       "    <tr style=\"text-align: right;\">\n",
       "      <th></th>\n",
       "      <th>Unnamed: 0</th>\n",
       "      <th>Antecedent</th>\n",
       "      <th>Consequent</th>\n",
       "      <th>Confidence_score</th>\n",
       "    </tr>\n",
       "  </thead>\n",
       "  <tbody>\n",
       "    <tr>\n",
       "      <th>0</th>\n",
       "      <td>0</td>\n",
       "      <td>('536370',)</td>\n",
       "      <td>('12/1/2010 8:45', '12583.0')</td>\n",
       "      <td>1.0</td>\n",
       "    </tr>\n",
       "    <tr>\n",
       "      <th>1</th>\n",
       "      <td>1</td>\n",
       "      <td>('12/1/2010 8:45',)</td>\n",
       "      <td>('12583.0', '536370')</td>\n",
       "      <td>1.0</td>\n",
       "    </tr>\n",
       "    <tr>\n",
       "      <th>2</th>\n",
       "      <td>2</td>\n",
       "      <td>('12/1/2010 8:45', '12583.0')</td>\n",
       "      <td>('536370',)</td>\n",
       "      <td>1.0</td>\n",
       "    </tr>\n",
       "    <tr>\n",
       "      <th>3</th>\n",
       "      <td>3</td>\n",
       "      <td>('12/1/2010 8:45', '536370')</td>\n",
       "      <td>('12583.0',)</td>\n",
       "      <td>1.0</td>\n",
       "    </tr>\n",
       "    <tr>\n",
       "      <th>4</th>\n",
       "      <td>4</td>\n",
       "      <td>('12583.0', '536370')</td>\n",
       "      <td>('12/1/2010 8:45',)</td>\n",
       "      <td>1.0</td>\n",
       "    </tr>\n",
       "  </tbody>\n",
       "</table>\n",
       "</div>"
      ],
      "text/plain": [
       "   Unnamed: 0                     Antecedent                     Consequent  \\\n",
       "0           0                    ('536370',)  ('12/1/2010 8:45', '12583.0')   \n",
       "1           1            ('12/1/2010 8:45',)          ('12583.0', '536370')   \n",
       "2           2  ('12/1/2010 8:45', '12583.0')                    ('536370',)   \n",
       "3           3   ('12/1/2010 8:45', '536370')                   ('12583.0',)   \n",
       "4           4          ('12583.0', '536370')            ('12/1/2010 8:45',)   \n",
       "\n",
       "   Confidence_score  \n",
       "0               1.0  \n",
       "1               1.0  \n",
       "2               1.0  \n",
       "3               1.0  \n",
       "4               1.0  "
      ]
     },
     "execution_count": 186,
     "metadata": {},
     "output_type": "execute_result"
    }
   ],
   "source": [
    "df_réimport = pd.read_csv(\"data/association_rules_df.csv\")\n",
    "df_réimport.head()"
   ]
  },
  {
   "cell_type": "code",
   "execution_count": 194,
   "id": "b5417794",
   "metadata": {},
   "outputs": [
    {
     "data": {
      "text/html": [
       "<div>\n",
       "<style scoped>\n",
       "    .dataframe tbody tr th:only-of-type {\n",
       "        vertical-align: middle;\n",
       "    }\n",
       "\n",
       "    .dataframe tbody tr th {\n",
       "        vertical-align: top;\n",
       "    }\n",
       "\n",
       "    .dataframe thead th {\n",
       "        text-align: right;\n",
       "    }\n",
       "</style>\n",
       "<table border=\"1\" class=\"dataframe\">\n",
       "  <thead>\n",
       "    <tr style=\"text-align: right;\">\n",
       "      <th></th>\n",
       "      <th>Unnamed: 0</th>\n",
       "      <th>Antecedent</th>\n",
       "      <th>Consequent</th>\n",
       "      <th>Confidence_score</th>\n",
       "    </tr>\n",
       "  </thead>\n",
       "  <tbody>\n",
       "    <tr>\n",
       "      <th>0</th>\n",
       "      <td>0</td>\n",
       "      <td>('GARDEN PATH JOURNAL',)</td>\n",
       "      <td>('2.55',)</td>\n",
       "      <td>1.0</td>\n",
       "    </tr>\n",
       "    <tr>\n",
       "      <th>1</th>\n",
       "      <td>1</td>\n",
       "      <td>('ANTIQUE GLASS HEART DECORATION ',)</td>\n",
       "      <td>('1.95',)</td>\n",
       "      <td>1.0</td>\n",
       "    </tr>\n",
       "    <tr>\n",
       "      <th>2</th>\n",
       "      <td>2</td>\n",
       "      <td>('GREEN JUICY FRUIT PHOTO FRAME',)</td>\n",
       "      <td>('2.55',)</td>\n",
       "      <td>1.0</td>\n",
       "    </tr>\n",
       "    <tr>\n",
       "      <th>3</th>\n",
       "      <td>3</td>\n",
       "      <td>('MULTI HEARTS  STICKERS',)</td>\n",
       "      <td>('0.85',)</td>\n",
       "      <td>1.0</td>\n",
       "    </tr>\n",
       "    <tr>\n",
       "      <th>4</th>\n",
       "      <td>4</td>\n",
       "      <td>('PACK 6 HEART/ICE-CREAM PATCHES',)</td>\n",
       "      <td>('1.25',)</td>\n",
       "      <td>1.0</td>\n",
       "    </tr>\n",
       "  </tbody>\n",
       "</table>\n",
       "</div>"
      ],
      "text/plain": [
       "   Unnamed: 0                            Antecedent Consequent  \\\n",
       "0           0              ('GARDEN PATH JOURNAL',)  ('2.55',)   \n",
       "1           1  ('ANTIQUE GLASS HEART DECORATION ',)  ('1.95',)   \n",
       "2           2    ('GREEN JUICY FRUIT PHOTO FRAME',)  ('2.55',)   \n",
       "3           3           ('MULTI HEARTS  STICKERS',)  ('0.85',)   \n",
       "4           4   ('PACK 6 HEART/ICE-CREAM PATCHES',)  ('1.25',)   \n",
       "\n",
       "   Confidence_score  \n",
       "0               1.0  \n",
       "1               1.0  \n",
       "2               1.0  \n",
       "3               1.0  \n",
       "4               1.0  "
      ]
     },
     "execution_count": 194,
     "metadata": {},
     "output_type": "execute_result"
    }
   ],
   "source": [
    "df_réimport_2 = pd.read_csv(\"data/association_rules_df_2.csv\")\n",
    "df_réimport_2.head()"
   ]
  },
  {
   "cell_type": "code",
   "execution_count": 199,
   "id": "07df92a1",
   "metadata": {},
   "outputs": [
    {
     "data": {
      "text/html": [
       "<div>\n",
       "<style scoped>\n",
       "    .dataframe tbody tr th:only-of-type {\n",
       "        vertical-align: middle;\n",
       "    }\n",
       "\n",
       "    .dataframe tbody tr th {\n",
       "        vertical-align: top;\n",
       "    }\n",
       "\n",
       "    .dataframe thead th {\n",
       "        text-align: right;\n",
       "    }\n",
       "</style>\n",
       "<table border=\"1\" class=\"dataframe\">\n",
       "  <thead>\n",
       "    <tr style=\"text-align: right;\">\n",
       "      <th></th>\n",
       "      <th>Unnamed: 0</th>\n",
       "      <th>Antecedent</th>\n",
       "      <th>Consequent</th>\n",
       "      <th>Confidence_score</th>\n",
       "    </tr>\n",
       "  </thead>\n",
       "  <tbody>\n",
       "    <tr>\n",
       "      <th>9657</th>\n",
       "      <td>9657</td>\n",
       "      <td>('0.04',)</td>\n",
       "      <td>('100', 'POPART WOODEN PENCILS ASST')</td>\n",
       "      <td>0.875</td>\n",
       "    </tr>\n",
       "    <tr>\n",
       "      <th>9659</th>\n",
       "      <td>9659</td>\n",
       "      <td>('0.04', '100')</td>\n",
       "      <td>('POPART WOODEN PENCILS ASST',)</td>\n",
       "      <td>1.000</td>\n",
       "    </tr>\n",
       "  </tbody>\n",
       "</table>\n",
       "</div>"
      ],
      "text/plain": [
       "      Unnamed: 0       Antecedent                             Consequent  \\\n",
       "9657        9657        ('0.04',)  ('100', 'POPART WOODEN PENCILS ASST')   \n",
       "9659        9659  ('0.04', '100')        ('POPART WOODEN PENCILS ASST',)   \n",
       "\n",
       "      Confidence_score  \n",
       "9657             0.875  \n",
       "9659             1.000  "
      ]
     },
     "execution_count": 199,
     "metadata": {},
     "output_type": "execute_result"
    }
   ],
   "source": [
    "# Définir la valeur spécifique recherchée\n",
    "valeur_recherchee = 'POPART WOODEN PENCILS ASST'\n",
    "\n",
    "# Utiliser la méthode apply() avec une fonction lambda pour rechercher la valeur\n",
    "resultats = df_réimport_2[df_réimport_2['Consequent'].apply(lambda x: valeur_recherchee in x)]\n",
    "\n",
    "# Afficher les résultats\n",
    "resultats"
   ]
  }
 ],
 "metadata": {
  "kernelspec": {
   "display_name": "Python 3 (ipykernel)",
   "language": "python",
   "name": "python3"
  },
  "language_info": {
   "codemirror_mode": {
    "name": "ipython",
    "version": 3
   },
   "file_extension": ".py",
   "mimetype": "text/x-python",
   "name": "python",
   "nbconvert_exporter": "python",
   "pygments_lexer": "ipython3",
   "version": "3.8.12"
  },
  "toc": {
   "base_numbering": 1,
   "nav_menu": {},
   "number_sections": true,
   "sideBar": true,
   "skip_h1_title": false,
   "title_cell": "Table of Contents",
   "title_sidebar": "Contents",
   "toc_cell": false,
   "toc_position": {},
   "toc_section_display": true,
   "toc_window_display": false
  }
 },
 "nbformat": 4,
 "nbformat_minor": 5
}
